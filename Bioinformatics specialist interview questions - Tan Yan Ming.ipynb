{
 "cells": [
  {
   "cell_type": "markdown",
   "metadata": {},
   "source": [
    "# BII\n",
    "\n",
    "By Tan Yan Ming"
   ]
  },
  {
   "cell_type": "code",
   "execution_count": 1,
   "metadata": {},
   "outputs": [],
   "source": [
    "import numpy as np\n",
    "import pandas as pd\n",
    "import matplotlib.pyplot as plt\n",
    "%matplotlib inline\n",
    "import seaborn as sns\n",
    "sns.set()\n",
    "\n",
    "import warnings\n",
    "warnings.filterwarnings(\"ignore\")"
   ]
  },
  {
   "cell_type": "markdown",
   "metadata": {},
   "source": [
    "## Question 1:"
   ]
  },
  {
   "cell_type": "code",
   "execution_count": 2,
   "metadata": {},
   "outputs": [],
   "source": [
    "# guess and check method\n",
    "import random\n",
    "\n",
    "def right_sum(shape, target, to_print = False):\n",
    "    Sum = 1\n",
    "    num = 1\n",
    "    \n",
    "    max_right = shape[1] -1 # no of cols minus 1\n",
    "    max_down = shape[0] -1 # no of rows minus 1\n",
    "    max_operations = max_right + max_down\n",
    "    \n",
    "    num_R = ['R' for i in range(max_right)]\n",
    "    num_D = ['D' for i in range(max_down)]\n",
    "    \n",
    "    while Sum != target:\n",
    "        Op = random.sample(num_R + num_D, k = max_operations)\n",
    "        if to_print == True:\n",
    "            print('Op created', Op)\n",
    "        \n",
    "        def R():\n",
    "            nonlocal Sum\n",
    "            nonlocal num\n",
    "            Sum += num\n",
    "            if to_print == True:\n",
    "                print(R, Sum, num)\n",
    "            return Sum\n",
    "            \n",
    "        def D():\n",
    "            nonlocal Sum\n",
    "            nonlocal num            \n",
    "            num += 1\n",
    "            Sum += num\n",
    "            if to_print == True:\n",
    "                print(D, Sum, num)\n",
    "            return Sum\n",
    "        \n",
    "        Sum = [R() if o=='R' else D() for o in Op][-1]\n",
    "        if to_print == True:\n",
    "            print(Sum)\n",
    "                        \n",
    "        if Sum == target:\n",
    "            print(Op)\n",
    "            return [str(target), ''.join(Op)]\n",
    "            break\n",
    "        \n",
    "        # reset for every loop\n",
    "        Sum = 1\n",
    "        num = 1"
   ]
  },
  {
   "cell_type": "markdown",
   "metadata": {},
   "source": [
    "I noticed that there are more than one operation for each summed number, but i would just report one operation per summed number, as it is very computationlly expensive."
   ]
  },
  {
   "cell_type": "code",
   "execution_count": 3,
   "metadata": {},
   "outputs": [
    {
     "name": "stdout",
     "output_type": "stream",
     "text": [
      "Op created ['R', 'D', 'D', 'D', 'R', 'R']\n",
      "<function right_sum.<locals>.R at 0x000002D21E2155E8> 2 1\n",
      "<function right_sum.<locals>.D at 0x000002D21E215678> 4 2\n",
      "<function right_sum.<locals>.D at 0x000002D21E215678> 7 3\n",
      "<function right_sum.<locals>.D at 0x000002D21E215678> 11 4\n",
      "<function right_sum.<locals>.R at 0x000002D21E2155E8> 15 4\n",
      "<function right_sum.<locals>.R at 0x000002D21E2155E8> 19 4\n",
      "19\n",
      "Op created ['R', 'R', 'D', 'D', 'R', 'D']\n",
      "<function right_sum.<locals>.R at 0x000002D21E215948> 2 1\n",
      "<function right_sum.<locals>.R at 0x000002D21E215948> 3 1\n",
      "<function right_sum.<locals>.D at 0x000002D21E2155E8> 5 2\n",
      "<function right_sum.<locals>.D at 0x000002D21E2155E8> 8 3\n",
      "<function right_sum.<locals>.R at 0x000002D21E215948> 11 3\n",
      "<function right_sum.<locals>.D at 0x000002D21E2155E8> 15 4\n",
      "15\n",
      "Op created ['R', 'R', 'D', 'D', 'D', 'R']\n",
      "<function right_sum.<locals>.R at 0x000002D2192E14C8> 2 1\n",
      "<function right_sum.<locals>.R at 0x000002D2192E14C8> 3 1\n",
      "<function right_sum.<locals>.D at 0x000002D21B6B7318> 5 2\n",
      "<function right_sum.<locals>.D at 0x000002D21B6B7318> 8 3\n",
      "<function right_sum.<locals>.D at 0x000002D21B6B7318> 12 4\n",
      "<function right_sum.<locals>.R at 0x000002D2192E14C8> 16 4\n",
      "16\n",
      "Op created ['D', 'R', 'R', 'D', 'D', 'R']\n",
      "<function right_sum.<locals>.D at 0x000002D2192E14C8> 3 2\n",
      "<function right_sum.<locals>.R at 0x000002D21E201B88> 5 2\n",
      "<function right_sum.<locals>.R at 0x000002D21E201B88> 7 2\n",
      "<function right_sum.<locals>.D at 0x000002D2192E14C8> 10 3\n",
      "<function right_sum.<locals>.D at 0x000002D2192E14C8> 14 4\n",
      "<function right_sum.<locals>.R at 0x000002D21E201B88> 18 4\n",
      "18\n",
      "Op created ['D', 'D', 'D', 'R', 'R', 'R']\n",
      "<function right_sum.<locals>.D at 0x000002D21E215318> 3 2\n",
      "<function right_sum.<locals>.D at 0x000002D21E215318> 6 3\n",
      "<function right_sum.<locals>.D at 0x000002D21E215318> 10 4\n",
      "<function right_sum.<locals>.R at 0x000002D21E215678> 14 4\n",
      "<function right_sum.<locals>.R at 0x000002D21E215678> 18 4\n",
      "<function right_sum.<locals>.R at 0x000002D21E215678> 22 4\n",
      "22\n",
      "Op created ['D', 'R', 'D', 'D', 'R', 'R']\n",
      "<function right_sum.<locals>.D at 0x000002D21E215678> 3 2\n",
      "<function right_sum.<locals>.R at 0x000002D21E215828> 5 2\n",
      "<function right_sum.<locals>.D at 0x000002D21E215678> 8 3\n",
      "<function right_sum.<locals>.D at 0x000002D21E215678> 12 4\n",
      "<function right_sum.<locals>.R at 0x000002D21E215828> 16 4\n",
      "<function right_sum.<locals>.R at 0x000002D21E215828> 20 4\n",
      "20\n",
      "Op created ['R', 'R', 'D', 'D', 'R', 'D']\n",
      "<function right_sum.<locals>.R at 0x000002D21E201D38> 2 1\n",
      "<function right_sum.<locals>.R at 0x000002D21E201D38> 3 1\n",
      "<function right_sum.<locals>.D at 0x000002D21E215828> 5 2\n",
      "<function right_sum.<locals>.D at 0x000002D21E215828> 8 3\n",
      "<function right_sum.<locals>.R at 0x000002D21E201D38> 11 3\n",
      "<function right_sum.<locals>.D at 0x000002D21E215828> 15 4\n",
      "15\n",
      "Op created ['D', 'R', 'R', 'D', 'D', 'R']\n",
      "<function right_sum.<locals>.D at 0x000002D21E201D38> 3 2\n",
      "<function right_sum.<locals>.R at 0x000002D21E215678> 5 2\n",
      "<function right_sum.<locals>.R at 0x000002D21E215678> 7 2\n",
      "<function right_sum.<locals>.D at 0x000002D21E201D38> 10 3\n",
      "<function right_sum.<locals>.D at 0x000002D21E201D38> 14 4\n",
      "<function right_sum.<locals>.R at 0x000002D21E215678> 18 4\n",
      "18\n",
      "Op created ['D', 'R', 'D', 'D', 'R', 'R']\n",
      "<function right_sum.<locals>.D at 0x000002D21E215678> 3 2\n",
      "<function right_sum.<locals>.R at 0x000002D21E215B88> 5 2\n",
      "<function right_sum.<locals>.D at 0x000002D21E215678> 8 3\n",
      "<function right_sum.<locals>.D at 0x000002D21E215678> 12 4\n",
      "<function right_sum.<locals>.R at 0x000002D21E215B88> 16 4\n",
      "<function right_sum.<locals>.R at 0x000002D21E215B88> 20 4\n",
      "20\n",
      "Op created ['R', 'D', 'D', 'D', 'R', 'R']\n",
      "<function right_sum.<locals>.R at 0x000002D21E2154C8> 2 1\n",
      "<function right_sum.<locals>.D at 0x000002D21E215B88> 4 2\n",
      "<function right_sum.<locals>.D at 0x000002D21E215B88> 7 3\n",
      "<function right_sum.<locals>.D at 0x000002D21E215B88> 11 4\n",
      "<function right_sum.<locals>.R at 0x000002D21E2154C8> 15 4\n",
      "<function right_sum.<locals>.R at 0x000002D21E2154C8> 19 4\n",
      "19\n",
      "Op created ['D', 'R', 'D', 'D', 'R', 'R']\n",
      "<function right_sum.<locals>.D at 0x000002D21E2154C8> 3 2\n",
      "<function right_sum.<locals>.R at 0x000002D21E2158B8> 5 2\n",
      "<function right_sum.<locals>.D at 0x000002D21E2154C8> 8 3\n",
      "<function right_sum.<locals>.D at 0x000002D21E2154C8> 12 4\n",
      "<function right_sum.<locals>.R at 0x000002D21E2158B8> 16 4\n",
      "<function right_sum.<locals>.R at 0x000002D21E2158B8> 20 4\n",
      "20\n",
      "Op created ['R', 'R', 'D', 'D', 'R', 'D']\n",
      "<function right_sum.<locals>.R at 0x000002D21E215708> 2 1\n",
      "<function right_sum.<locals>.R at 0x000002D21E215708> 3 1\n",
      "<function right_sum.<locals>.D at 0x000002D21E2158B8> 5 2\n",
      "<function right_sum.<locals>.D at 0x000002D21E2158B8> 8 3\n",
      "<function right_sum.<locals>.R at 0x000002D21E215708> 11 3\n",
      "<function right_sum.<locals>.D at 0x000002D21E2158B8> 15 4\n",
      "15\n",
      "Op created ['R', 'R', 'D', 'D', 'D', 'R']\n",
      "<function right_sum.<locals>.R at 0x000002D21E2018B8> 2 1\n",
      "<function right_sum.<locals>.R at 0x000002D21E2018B8> 3 1\n",
      "<function right_sum.<locals>.D at 0x000002D21E215708> 5 2\n",
      "<function right_sum.<locals>.D at 0x000002D21E215708> 8 3\n",
      "<function right_sum.<locals>.D at 0x000002D21E215708> 12 4\n",
      "<function right_sum.<locals>.R at 0x000002D21E2018B8> 16 4\n",
      "16\n",
      "Op created ['D', 'R', 'R', 'D', 'D', 'R']\n",
      "<function right_sum.<locals>.D at 0x000002D21E2018B8> 3 2\n",
      "<function right_sum.<locals>.R at 0x000002D21E201F78> 5 2\n",
      "<function right_sum.<locals>.R at 0x000002D21E201F78> 7 2\n",
      "<function right_sum.<locals>.D at 0x000002D21E2018B8> 10 3\n",
      "<function right_sum.<locals>.D at 0x000002D21E2018B8> 14 4\n",
      "<function right_sum.<locals>.R at 0x000002D21E201F78> 18 4\n",
      "18\n",
      "Op created ['D', 'R', 'R', 'D', 'R', 'D']\n",
      "<function right_sum.<locals>.D at 0x000002D21E201F78> 3 2\n",
      "<function right_sum.<locals>.R at 0x000002D21E20AA68> 5 2\n",
      "<function right_sum.<locals>.R at 0x000002D21E20AA68> 7 2\n",
      "<function right_sum.<locals>.D at 0x000002D21E201F78> 10 3\n",
      "<function right_sum.<locals>.R at 0x000002D21E20AA68> 13 3\n",
      "<function right_sum.<locals>.D at 0x000002D21E201F78> 17 4\n",
      "17\n",
      "Op created ['R', 'R', 'D', 'R', 'D', 'D']\n",
      "<function right_sum.<locals>.R at 0x000002D21E20A168> 2 1\n",
      "<function right_sum.<locals>.R at 0x000002D21E20A168> 3 1\n",
      "<function right_sum.<locals>.D at 0x000002D21E20AA68> 5 2\n",
      "<function right_sum.<locals>.R at 0x000002D21E20A168> 7 2\n",
      "<function right_sum.<locals>.D at 0x000002D21E20AA68> 10 3\n",
      "<function right_sum.<locals>.D at 0x000002D21E20AA68> 14 4\n",
      "14\n",
      "Op created ['D', 'R', 'D', 'D', 'R', 'R']\n",
      "<function right_sum.<locals>.D at 0x000002D21E215318> 3 2\n",
      "<function right_sum.<locals>.R at 0x000002D21E215678> 5 2\n",
      "<function right_sum.<locals>.D at 0x000002D21E215318> 8 3\n",
      "<function right_sum.<locals>.D at 0x000002D21E215318> 12 4\n",
      "<function right_sum.<locals>.R at 0x000002D21E215678> 16 4\n",
      "<function right_sum.<locals>.R at 0x000002D21E215678> 20 4\n",
      "20\n",
      "Op created ['R', 'D', 'D', 'R', 'D', 'R']\n",
      "<function right_sum.<locals>.R at 0x000002D21E20B3A8> 2 1\n",
      "<function right_sum.<locals>.D at 0x000002D21E215678> 4 2\n",
      "<function right_sum.<locals>.D at 0x000002D21E215678> 7 3\n",
      "<function right_sum.<locals>.R at 0x000002D21E20B3A8> 10 3\n",
      "<function right_sum.<locals>.D at 0x000002D21E215678> 14 4\n",
      "<function right_sum.<locals>.R at 0x000002D21E20B3A8> 18 4\n",
      "18\n",
      "Op created ['D', 'D', 'R', 'R', 'D', 'R']\n",
      "<function right_sum.<locals>.D at 0x000002D21E20B3A8> 3 2\n",
      "<function right_sum.<locals>.D at 0x000002D21E20B3A8> 6 3\n",
      "<function right_sum.<locals>.R at 0x000002D21E20DB88> 9 3\n",
      "<function right_sum.<locals>.R at 0x000002D21E20DB88> 12 3\n",
      "<function right_sum.<locals>.D at 0x000002D21E20B3A8> 16 4\n",
      "<function right_sum.<locals>.R at 0x000002D21E20DB88> 20 4\n",
      "20\n",
      "Op created ['R', 'D', 'D', 'R', 'R', 'D']\n",
      "<function right_sum.<locals>.R at 0x000002D21E20D798> 2 1\n",
      "<function right_sum.<locals>.D at 0x000002D21E20DB88> 4 2\n",
      "<function right_sum.<locals>.D at 0x000002D21E20DB88> 7 3\n",
      "<function right_sum.<locals>.R at 0x000002D21E20D798> 10 3\n",
      "<function right_sum.<locals>.R at 0x000002D21E20D798> 13 3\n",
      "<function right_sum.<locals>.D at 0x000002D21E20DB88> 17 4\n",
      "17\n",
      "Op created ['D', 'R', 'R', 'D', 'D', 'R']\n",
      "<function right_sum.<locals>.D at 0x000002D21E20D798> 3 2\n",
      "<function right_sum.<locals>.R at 0x000002D21E20D828> 5 2\n",
      "<function right_sum.<locals>.R at 0x000002D21E20D828> 7 2\n",
      "<function right_sum.<locals>.D at 0x000002D21E20D798> 10 3\n",
      "<function right_sum.<locals>.D at 0x000002D21E20D798> 14 4\n",
      "<function right_sum.<locals>.R at 0x000002D21E20D828> 18 4\n",
      "18\n",
      "Op created ['R', 'R', 'D', 'R', 'D', 'D']\n",
      "<function right_sum.<locals>.R at 0x000002D21E2153A8> 2 1\n",
      "<function right_sum.<locals>.R at 0x000002D21E2153A8> 3 1\n",
      "<function right_sum.<locals>.D at 0x000002D21E20D828> 5 2\n",
      "<function right_sum.<locals>.R at 0x000002D21E2153A8> 7 2\n",
      "<function right_sum.<locals>.D at 0x000002D21E20D828> 10 3\n",
      "<function right_sum.<locals>.D at 0x000002D21E20D828> 14 4\n",
      "14\n",
      "Op created ['R', 'D', 'D', 'D', 'R', 'R']\n",
      "<function right_sum.<locals>.R at 0x000002D21E215318> 2 1\n",
      "<function right_sum.<locals>.D at 0x000002D21E2153A8> 4 2\n",
      "<function right_sum.<locals>.D at 0x000002D21E2153A8> 7 3\n",
      "<function right_sum.<locals>.D at 0x000002D21E2153A8> 11 4\n",
      "<function right_sum.<locals>.R at 0x000002D21E215318> 15 4\n",
      "<function right_sum.<locals>.R at 0x000002D21E215318> 19 4\n",
      "19\n",
      "Op created ['R', 'D', 'R', 'R', 'D', 'D']\n",
      "<function right_sum.<locals>.R at 0x000002D21E20AEE8> 2 1\n",
      "<function right_sum.<locals>.D at 0x000002D21E215318> 4 2\n",
      "<function right_sum.<locals>.R at 0x000002D21E20AEE8> 6 2\n",
      "<function right_sum.<locals>.R at 0x000002D21E20AEE8> 8 2\n",
      "<function right_sum.<locals>.D at 0x000002D21E215318> 11 3\n",
      "<function right_sum.<locals>.D at 0x000002D21E215318> 15 4\n",
      "15\n",
      "Op created ['R', 'D', 'D', 'R', 'D', 'R']\n",
      "<function right_sum.<locals>.R at 0x000002D21E20F8B8> 2 1\n",
      "<function right_sum.<locals>.D at 0x000002D21E20AEE8> 4 2\n",
      "<function right_sum.<locals>.D at 0x000002D21E20AEE8> 7 3\n",
      "<function right_sum.<locals>.R at 0x000002D21E20F8B8> 10 3\n",
      "<function right_sum.<locals>.D at 0x000002D21E20AEE8> 14 4\n",
      "<function right_sum.<locals>.R at 0x000002D21E20F8B8> 18 4\n",
      "18\n",
      "Op created ['D', 'R', 'R', 'D', 'D', 'R']\n",
      "<function right_sum.<locals>.D at 0x000002D21E20F8B8> 3 2\n",
      "<function right_sum.<locals>.R at 0x000002D21E20FC18> 5 2\n",
      "<function right_sum.<locals>.R at 0x000002D21E20FC18> 7 2\n",
      "<function right_sum.<locals>.D at 0x000002D21E20F8B8> 10 3\n",
      "<function right_sum.<locals>.D at 0x000002D21E20F8B8> 14 4\n",
      "<function right_sum.<locals>.R at 0x000002D21E20FC18> 18 4\n",
      "18\n",
      "Op created ['D', 'D', 'R', 'R', 'D', 'R']\n",
      "<function right_sum.<locals>.D at 0x000002D21E20FC18> 3 2\n",
      "<function right_sum.<locals>.D at 0x000002D21E20FC18> 6 3\n",
      "<function right_sum.<locals>.R at 0x000002D21E20F288> 9 3\n",
      "<function right_sum.<locals>.R at 0x000002D21E20F288> 12 3\n",
      "<function right_sum.<locals>.D at 0x000002D21E20FC18> 16 4\n",
      "<function right_sum.<locals>.R at 0x000002D21E20F288> 20 4\n",
      "20\n",
      "Op created ['D', 'R', 'R', 'D', 'R', 'D']\n",
      "<function right_sum.<locals>.D at 0x000002D21E20F288> 3 2\n",
      "<function right_sum.<locals>.R at 0x000002D21E20F558> 5 2\n",
      "<function right_sum.<locals>.R at 0x000002D21E20F558> 7 2\n",
      "<function right_sum.<locals>.D at 0x000002D21E20F288> 10 3\n",
      "<function right_sum.<locals>.R at 0x000002D21E20F558> 13 3\n",
      "<function right_sum.<locals>.D at 0x000002D21E20F288> 17 4\n",
      "17\n",
      "Op created ['R', 'D', 'R', 'D', 'R', 'D']\n",
      "<function right_sum.<locals>.R at 0x000002D21E20F438> 2 1\n",
      "<function right_sum.<locals>.D at 0x000002D21E20F558> 4 2\n",
      "<function right_sum.<locals>.R at 0x000002D21E20F438> 6 2\n",
      "<function right_sum.<locals>.D at 0x000002D21E20F558> 9 3\n",
      "<function right_sum.<locals>.R at 0x000002D21E20F438> 12 3\n",
      "<function right_sum.<locals>.D at 0x000002D21E20F558> 16 4\n",
      "16\n",
      "Op created ['R', 'R', 'D', 'D', 'R', 'D']\n",
      "<function right_sum.<locals>.R at 0x000002D21E215A68> 2 1\n",
      "<function right_sum.<locals>.R at 0x000002D21E215A68> 3 1\n",
      "<function right_sum.<locals>.D at 0x000002D21E215AF8> 5 2\n",
      "<function right_sum.<locals>.D at 0x000002D21E215AF8> 8 3\n",
      "<function right_sum.<locals>.R at 0x000002D21E215A68> 11 3\n",
      "<function right_sum.<locals>.D at 0x000002D21E215AF8> 15 4\n",
      "15\n",
      "Op created ['R', 'D', 'R', 'D', 'R', 'D']\n",
      "<function right_sum.<locals>.R at 0x000002D21E20F318> 2 1\n",
      "<function right_sum.<locals>.D at 0x000002D21E215A68> 4 2\n",
      "<function right_sum.<locals>.R at 0x000002D21E20F318> 6 2\n",
      "<function right_sum.<locals>.D at 0x000002D21E215A68> 9 3\n",
      "<function right_sum.<locals>.R at 0x000002D21E20F318> 12 3\n",
      "<function right_sum.<locals>.D at 0x000002D21E215A68> 16 4\n",
      "16\n",
      "Op created ['D', 'R', 'R', 'D', 'D', 'R']\n",
      "<function right_sum.<locals>.D at 0x000002D21E20F318> 3 2\n",
      "<function right_sum.<locals>.R at 0x000002D21E20F1F8> 5 2\n",
      "<function right_sum.<locals>.R at 0x000002D21E20F1F8> 7 2\n",
      "<function right_sum.<locals>.D at 0x000002D21E20F318> 10 3\n",
      "<function right_sum.<locals>.D at 0x000002D21E20F318> 14 4\n",
      "<function right_sum.<locals>.R at 0x000002D21E20F1F8> 18 4\n",
      "18\n",
      "Op created ['D', 'R', 'D', 'R', 'R', 'D']\n",
      "<function right_sum.<locals>.D at 0x000002D21E215F78> 3 2\n",
      "<function right_sum.<locals>.R at 0x000002D21E215E58> 5 2\n",
      "<function right_sum.<locals>.D at 0x000002D21E215F78> 8 3\n",
      "<function right_sum.<locals>.R at 0x000002D21E215E58> 11 3\n",
      "<function right_sum.<locals>.R at 0x000002D21E215E58> 14 3\n",
      "<function right_sum.<locals>.D at 0x000002D21E215F78> 18 4\n",
      "18\n",
      "Op created ['R', 'R', 'D', 'R', 'D', 'D']\n",
      "<function right_sum.<locals>.R at 0x000002D21E215EE8> 2 1\n",
      "<function right_sum.<locals>.R at 0x000002D21E215EE8> 3 1\n",
      "<function right_sum.<locals>.D at 0x000002D21E215E58> 5 2\n",
      "<function right_sum.<locals>.R at 0x000002D21E215EE8> 7 2\n",
      "<function right_sum.<locals>.D at 0x000002D21E215E58> 10 3\n",
      "<function right_sum.<locals>.D at 0x000002D21E215E58> 14 4\n",
      "14\n",
      "Op created ['D', 'R', 'D', 'D', 'R', 'R']\n",
      "<function right_sum.<locals>.D at 0x000002D21E215EE8> 3 2\n",
      "<function right_sum.<locals>.R at 0x000002D21E217D38> 5 2\n",
      "<function right_sum.<locals>.D at 0x000002D21E215EE8> 8 3\n",
      "<function right_sum.<locals>.D at 0x000002D21E215EE8> 12 4\n",
      "<function right_sum.<locals>.R at 0x000002D21E217D38> 16 4\n",
      "<function right_sum.<locals>.R at 0x000002D21E217D38> 20 4\n",
      "20\n",
      "Op created ['D', 'D', 'R', 'R', 'D', 'R']\n",
      "<function right_sum.<locals>.D at 0x000002D21E217D38> 3 2\n",
      "<function right_sum.<locals>.D at 0x000002D21E217D38> 6 3\n",
      "<function right_sum.<locals>.R at 0x000002D21E217438> 9 3\n",
      "<function right_sum.<locals>.R at 0x000002D21E217438> 12 3\n",
      "<function right_sum.<locals>.D at 0x000002D21E217D38> 16 4\n",
      "<function right_sum.<locals>.R at 0x000002D21E217438> 20 4\n",
      "20\n",
      "Op created ['R', 'D', 'R', 'D', 'R', 'D']\n",
      "<function right_sum.<locals>.R at 0x000002D21E215DC8> 2 1\n",
      "<function right_sum.<locals>.D at 0x000002D21E217438> 4 2\n",
      "<function right_sum.<locals>.R at 0x000002D21E215DC8> 6 2\n",
      "<function right_sum.<locals>.D at 0x000002D21E217438> 9 3\n",
      "<function right_sum.<locals>.R at 0x000002D21E215DC8> 12 3\n",
      "<function right_sum.<locals>.D at 0x000002D21E217438> 16 4\n",
      "16\n",
      "Op created ['D', 'R', 'R', 'D', 'D', 'R']\n",
      "<function right_sum.<locals>.D at 0x000002D21E215DC8> 3 2\n",
      "<function right_sum.<locals>.R at 0x000002D21E2159D8> 5 2\n",
      "<function right_sum.<locals>.R at 0x000002D21E2159D8> 7 2\n",
      "<function right_sum.<locals>.D at 0x000002D21E215DC8> 10 3\n",
      "<function right_sum.<locals>.D at 0x000002D21E215DC8> 14 4\n",
      "<function right_sum.<locals>.R at 0x000002D21E2159D8> 18 4\n",
      "18\n",
      "Op created ['R', 'D', 'D', 'D', 'R', 'R']\n",
      "<function right_sum.<locals>.R at 0x000002D21E215318> 2 1\n",
      "<function right_sum.<locals>.D at 0x000002D21E2159D8> 4 2\n",
      "<function right_sum.<locals>.D at 0x000002D21E2159D8> 7 3\n",
      "<function right_sum.<locals>.D at 0x000002D21E2159D8> 11 4\n",
      "<function right_sum.<locals>.R at 0x000002D21E215318> 15 4\n",
      "<function right_sum.<locals>.R at 0x000002D21E215318> 19 4\n",
      "19\n",
      "Op created ['D', 'D', 'R', 'R', 'D', 'R']\n",
      "<function right_sum.<locals>.D at 0x000002D21E215318> 3 2\n",
      "<function right_sum.<locals>.D at 0x000002D21E215318> 6 3\n",
      "<function right_sum.<locals>.R at 0x000002D21E215708> 9 3\n",
      "<function right_sum.<locals>.R at 0x000002D21E215708> 12 3\n",
      "<function right_sum.<locals>.D at 0x000002D21E215318> 16 4\n",
      "<function right_sum.<locals>.R at 0x000002D21E215708> 20 4\n",
      "20\n",
      "Op created ['D', 'R', 'D', 'D', 'R', 'R']\n",
      "<function right_sum.<locals>.D at 0x000002D21E215708> 3 2\n",
      "<function right_sum.<locals>.R at 0x000002D21E215C18> 5 2\n",
      "<function right_sum.<locals>.D at 0x000002D21E215708> 8 3\n",
      "<function right_sum.<locals>.D at 0x000002D21E215708> 12 4\n",
      "<function right_sum.<locals>.R at 0x000002D21E215C18> 16 4\n",
      "<function right_sum.<locals>.R at 0x000002D21E215C18> 20 4\n",
      "20\n",
      "Op created ['R', 'D', 'R', 'D', 'R', 'D']\n",
      "<function right_sum.<locals>.R at 0x000002D21E215CA8> 2 1\n",
      "<function right_sum.<locals>.D at 0x000002D21E215C18> 4 2\n",
      "<function right_sum.<locals>.R at 0x000002D21E215CA8> 6 2\n",
      "<function right_sum.<locals>.D at 0x000002D21E215C18> 9 3\n",
      "<function right_sum.<locals>.R at 0x000002D21E215CA8> 12 3\n",
      "<function right_sum.<locals>.D at 0x000002D21E215C18> 16 4\n",
      "16\n",
      "Op created ['R', 'D', 'D', 'D', 'R', 'R']\n",
      "<function right_sum.<locals>.R at 0x000002D21E215318> 2 1\n",
      "<function right_sum.<locals>.D at 0x000002D21E215CA8> 4 2\n",
      "<function right_sum.<locals>.D at 0x000002D21E215CA8> 7 3\n",
      "<function right_sum.<locals>.D at 0x000002D21E215CA8> 11 4\n",
      "<function right_sum.<locals>.R at 0x000002D21E215318> 15 4\n",
      "<function right_sum.<locals>.R at 0x000002D21E215318> 19 4\n",
      "19\n",
      "Op created ['R', 'D', 'R', 'R', 'D', 'D']\n",
      "<function right_sum.<locals>.R at 0x000002D21E215EE8> 2 1\n",
      "<function right_sum.<locals>.D at 0x000002D21E215318> 4 2\n",
      "<function right_sum.<locals>.R at 0x000002D21E215EE8> 6 2\n",
      "<function right_sum.<locals>.R at 0x000002D21E215EE8> 8 2\n",
      "<function right_sum.<locals>.D at 0x000002D21E215318> 11 3\n",
      "<function right_sum.<locals>.D at 0x000002D21E215318> 15 4\n",
      "15\n",
      "Op created ['D', 'R', 'D', 'D', 'R', 'R']\n",
      "<function right_sum.<locals>.D at 0x000002D21E215EE8> 3 2\n",
      "<function right_sum.<locals>.R at 0x000002D21E215CA8> 5 2\n",
      "<function right_sum.<locals>.D at 0x000002D21E215EE8> 8 3\n",
      "<function right_sum.<locals>.D at 0x000002D21E215EE8> 12 4\n",
      "<function right_sum.<locals>.R at 0x000002D21E215CA8> 16 4\n",
      "<function right_sum.<locals>.R at 0x000002D21E215CA8> 20 4\n",
      "20\n",
      "Op created ['R', 'D', 'R', 'D', 'D', 'R']\n",
      "<function right_sum.<locals>.R at 0x000002D21E219948> 2 1\n",
      "<function right_sum.<locals>.D at 0x000002D21E215CA8> 4 2\n",
      "<function right_sum.<locals>.R at 0x000002D21E219948> 6 2\n",
      "<function right_sum.<locals>.D at 0x000002D21E215CA8> 9 3\n",
      "<function right_sum.<locals>.D at 0x000002D21E215CA8> 13 4\n",
      "<function right_sum.<locals>.R at 0x000002D21E219948> 17 4\n",
      "17\n",
      "Op created ['R', 'R', 'D', 'D', 'R', 'D']\n",
      "<function right_sum.<locals>.R at 0x000002D21E2153A8> 2 1\n",
      "<function right_sum.<locals>.R at 0x000002D21E2153A8> 3 1\n",
      "<function right_sum.<locals>.D at 0x000002D21E215A68> 5 2\n",
      "<function right_sum.<locals>.D at 0x000002D21E215A68> 8 3\n",
      "<function right_sum.<locals>.R at 0x000002D21E2153A8> 11 3\n",
      "<function right_sum.<locals>.D at 0x000002D21E215A68> 15 4\n",
      "15\n",
      "Op created ['D', 'D', 'R', 'R', 'R', 'D']\n",
      "<function right_sum.<locals>.D at 0x000002D21E2153A8> 3 2\n",
      "<function right_sum.<locals>.D at 0x000002D21E2153A8> 6 3\n",
      "<function right_sum.<locals>.R at 0x000002D21E215558> 9 3\n",
      "<function right_sum.<locals>.R at 0x000002D21E215558> 12 3\n",
      "<function right_sum.<locals>.R at 0x000002D21E215558> 15 3\n",
      "<function right_sum.<locals>.D at 0x000002D21E2153A8> 19 4\n",
      "19\n",
      "Op created ['R', 'R', 'R', 'D', 'D', 'D']\n",
      "<function right_sum.<locals>.R at 0x000002D21E215B88> 2 1\n",
      "<function right_sum.<locals>.R at 0x000002D21E215B88> 3 1\n",
      "<function right_sum.<locals>.R at 0x000002D21E215B88> 4 1\n",
      "<function right_sum.<locals>.D at 0x000002D21E215558> 6 2\n",
      "<function right_sum.<locals>.D at 0x000002D21E215558> 9 3\n",
      "<function right_sum.<locals>.D at 0x000002D21E215558> 13 4\n",
      "13\n",
      "Op created ['R', 'D', 'R', 'D', 'D', 'R']\n",
      "<function right_sum.<locals>.R at 0x000002D21B6B7318> 2 1\n",
      "<function right_sum.<locals>.D at 0x000002D2192E14C8> 4 2\n",
      "<function right_sum.<locals>.R at 0x000002D21B6B7318> 6 2\n",
      "<function right_sum.<locals>.D at 0x000002D2192E14C8> 9 3\n",
      "<function right_sum.<locals>.D at 0x000002D2192E14C8> 13 4\n",
      "<function right_sum.<locals>.R at 0x000002D21B6B7318> 17 4\n",
      "17\n",
      "Op created ['D', 'R', 'R', 'R', 'D', 'D']\n",
      "<function right_sum.<locals>.D at 0x000002D21B6B7318> 3 2\n",
      "<function right_sum.<locals>.R at 0x000002D21E215EE8> 5 2\n",
      "<function right_sum.<locals>.R at 0x000002D21E215EE8> 7 2\n",
      "<function right_sum.<locals>.R at 0x000002D21E215EE8> 9 2\n",
      "<function right_sum.<locals>.D at 0x000002D21B6B7318> 12 3\n",
      "<function right_sum.<locals>.D at 0x000002D21B6B7318> 16 4\n",
      "16\n",
      "Op created ['D', 'R', 'D', 'R', 'D', 'R']\n",
      "<function right_sum.<locals>.D at 0x000002D21E215438> 3 2\n",
      "<function right_sum.<locals>.R at 0x000002D2192E14C8> 5 2\n",
      "<function right_sum.<locals>.D at 0x000002D21E215438> 8 3\n",
      "<function right_sum.<locals>.R at 0x000002D2192E14C8> 11 3\n",
      "<function right_sum.<locals>.D at 0x000002D21E215438> 15 4\n",
      "<function right_sum.<locals>.R at 0x000002D2192E14C8> 19 4\n",
      "19\n"
     ]
    },
    {
     "data": {
      "text/plain": [
       "array([['13', 'RRRDDD'],\n",
       "       ['16', 'DRRRDD'],\n",
       "       ['19', 'DRDRDR']], dtype='<U6')"
      ]
     },
     "execution_count": 3,
     "metadata": {},
     "output_type": "execute_result"
    }
   ],
   "source": [
    "# for demontration purpose of the function\n",
    "a1_4x4 = np.array([right_sum((4,4), i, to_print = True) for i in [13, 16, 19]])\n",
    "a1_4x4"
   ]
  },
  {
   "cell_type": "code",
   "execution_count": 4,
   "metadata": {
    "scrolled": true
   },
   "outputs": [
    {
     "data": {
      "text/plain": [
       "array([['65', 'RDRRRRRDRDDDRDDD'],\n",
       "       ['72', 'RRRDRDDRRDDRDDRD'],\n",
       "       ['90', 'DDRRRDDDRRRDDDRR'],\n",
       "       ['110', 'DDDRDDDDRRDRRRRR']], dtype='<U16')"
      ]
     },
     "execution_count": 4,
     "metadata": {},
     "output_type": "execute_result"
    }
   ],
   "source": [
    "# can run multiple times to show that theres several operations that return the same summed number\n",
    "a = np.array([right_sum((9,9), i) for i in [65, 72, 90, 110]])\n",
    "a"
   ]
  },
  {
   "cell_type": "code",
   "execution_count": 606,
   "metadata": {},
   "outputs": [],
   "source": [
    "# import time \n",
    "\n",
    "# startTime = time.time()\n",
    "# b = np.array(right_sum((90000,100000), 5994891682))\n",
    "              \n",
    "# print('The script took {0} second !'.format(time.time() - startTime))"
   ]
  },
  {
   "cell_type": "markdown",
   "metadata": {},
   "source": [
    "The function above should work on extremely large matrix too, but its will be extremely computationally intensive.  \n",
    "\n",
    "Hence, the only way i could think of solving this (at the moment) is to do it manually to find the path.  \n",
    "\n",
    "Also i noticed that the value 87127231192 is way to big to be achieve by the matrix. Proof is shown below."
   ]
  },
  {
   "cell_type": "code",
   "execution_count": 609,
   "metadata": {},
   "outputs": [
    {
     "name": "stdout",
     "output_type": "stream",
     "text": [
      "13049865000\n"
     ]
    },
    {
     "data": {
      "text/plain": [
       "True"
      ]
     },
     "execution_count": 609,
     "metadata": {},
     "output_type": "execute_result"
    }
   ],
   "source": [
    "# showing that the maximum achieveable value from the matrix is still smaller than 87127231192\n",
    "max = sum(range(1,90001)) + 90000*99998\n",
    "print(max)\n",
    "87127231192 > max"
   ]
  },
  {
   "cell_type": "markdown",
   "metadata": {},
   "source": [
    "Repeat the same for 5994891682"
   ]
  },
  {
   "cell_type": "code",
   "execution_count": 610,
   "metadata": {},
   "outputs": [
    {
     "name": "stdout",
     "output_type": "stream",
     "text": [
      "56521\n",
      "steps left = 37632\n",
      "\n",
      "0\n",
      "\n",
      "steps left = 31110\n"
     ]
    },
    {
     "data": {
      "text/plain": [
       "(5994891682, 189998)"
      ]
     },
     "execution_count": 610,
     "metadata": {},
     "output_type": "execute_result"
    }
   ],
   "source": [
    "'''the last range is via trial and error to get the smallest remainder'''\n",
    "print(5994891682 - sum(range(1,90001)) - sum(range(1,62367)))\n",
    "steps_left = (90000-1)+(100000-1) - 90000 - len(range(1,62367))\n",
    "print('steps left =', steps_left) \n",
    "print()\n",
    "\n",
    "'''to decompose the remainder'''\n",
    "print(56521 - 50000 - 6000 - 500 - 20 - 1)\n",
    "print()\n",
    "\n",
    "'''add those decomposed values that are smaller than the steps_left as 1''' \n",
    "ones = 6000 + 500 + 20 + 1\n",
    "\n",
    "'''added 1 as there are 1 untouched decomposed values that were not regarded as ones''' \n",
    "steps_left -= (ones + 1)\n",
    "print('steps left =', steps_left)\n",
    "\n",
    "'''use the steps left as ones again'''\n",
    "ones += steps_left\n",
    "\n",
    "'''obtain the numerical list for 5994891682, and saved as b'''\n",
    "b = np.ones((ones), int).tolist() + list(range(1,90001)) + list(range(1,62367)) + [50000 - steps_left] \n",
    "\n",
    "'''check'''\n",
    "sum(b2), len(b2)"
   ]
  },
  {
   "cell_type": "code",
   "execution_count": 613,
   "metadata": {},
   "outputs": [
    {
     "data": {
      "text/plain": [
       "(89999, 99999)"
      ]
     },
     "execution_count": 613,
     "metadata": {},
     "output_type": "execute_result"
    }
   ],
   "source": [
    "b = sorted(b)\n",
    "\n",
    "B = ['R']\n",
    "for i in range(len(b)-1):\n",
    "    if b[i] == b[i+1]:\n",
    "        B.append('R')\n",
    "    else:\n",
    "        B.append('D')\n",
    "\n",
    "# check the number of down and right steps taken\n",
    "(np.array(B) == 'D').sum(), (np.array(B) == 'R').sum()"
   ]
  },
  {
   "cell_type": "code",
   "execution_count": 616,
   "metadata": {},
   "outputs": [
    {
     "data": {
      "text/plain": [
       "5994891682"
      ]
     },
     "execution_count": 616,
     "metadata": {},
     "output_type": "execute_result"
    }
   ],
   "source": [
    "def check(Op):\n",
    "    Sum = 0\n",
    "    num = 1\n",
    "\n",
    "    def R():\n",
    "        nonlocal Sum\n",
    "        nonlocal num\n",
    "        Sum += num\n",
    "        return Sum\n",
    "\n",
    "    def D():\n",
    "        nonlocal Sum\n",
    "        nonlocal num            \n",
    "        num += 1\n",
    "        Sum += num\n",
    "        return Sum\n",
    "\n",
    "    Sum = [R() if o=='R' else D() for o in Op][-1]\n",
    "    return Sum\n",
    "\n",
    "check(B)"
   ]
  },
  {
   "cell_type": "code",
   "execution_count": 634,
   "metadata": {
    "scrolled": true
   },
   "outputs": [],
   "source": [
    "blank = np.array([['', '']])\n",
    "a1 = np.concatenate([a, blank, np.array([str(5994891682), ''.join(B)]).reshape(1,2)])"
   ]
  },
  {
   "cell_type": "code",
   "execution_count": 635,
   "metadata": {},
   "outputs": [
    {
     "data": {
      "text/html": [
       "<div>\n",
       "<style scoped>\n",
       "    .dataframe tbody tr th:only-of-type {\n",
       "        vertical-align: middle;\n",
       "    }\n",
       "\n",
       "    .dataframe tbody tr th {\n",
       "        vertical-align: top;\n",
       "    }\n",
       "\n",
       "    .dataframe thead th {\n",
       "        text-align: right;\n",
       "    }\n",
       "</style>\n",
       "<table border=\"1\" class=\"dataframe\">\n",
       "  <thead>\n",
       "    <tr style=\"text-align: right;\">\n",
       "      <th></th>\n",
       "      <th>summed_number</th>\n",
       "      <th>operation</th>\n",
       "    </tr>\n",
       "  </thead>\n",
       "  <tbody>\n",
       "    <tr>\n",
       "      <th>0</th>\n",
       "      <td>65</td>\n",
       "      <td>RDRRRRRDRDDDRDDD</td>\n",
       "    </tr>\n",
       "    <tr>\n",
       "      <th>1</th>\n",
       "      <td>72</td>\n",
       "      <td>RRRDRDDRRDDRDDRD</td>\n",
       "    </tr>\n",
       "    <tr>\n",
       "      <th>2</th>\n",
       "      <td>90</td>\n",
       "      <td>DDRRRDDDRRRDDDRR</td>\n",
       "    </tr>\n",
       "    <tr>\n",
       "      <th>3</th>\n",
       "      <td>110</td>\n",
       "      <td>DDDRDDDDRRDRRRRR</td>\n",
       "    </tr>\n",
       "    <tr>\n",
       "      <th>4</th>\n",
       "      <td></td>\n",
       "      <td></td>\n",
       "    </tr>\n",
       "    <tr>\n",
       "      <th>5</th>\n",
       "      <td>5994891682</td>\n",
       "      <td>RRRRRRRRRRRRRRRRRRRRRRRRRRRRRRRRRRRRRRRRRRRRRR...</td>\n",
       "    </tr>\n",
       "  </tbody>\n",
       "</table>\n",
       "</div>"
      ],
      "text/plain": [
       "  summed_number                                          operation\n",
       "0            65                                   RDRRRRRDRDDDRDDD\n",
       "1            72                                   RRRDRDDRRDDRDDRD\n",
       "2            90                                   DDRRRDDDRRRDDDRR\n",
       "3           110                                   DDDRDDDDRRDRRRRR\n",
       "4                                                                 \n",
       "5    5994891682  RRRRRRRRRRRRRRRRRRRRRRRRRRRRRRRRRRRRRRRRRRRRRR..."
      ]
     },
     "execution_count": 635,
     "metadata": {},
     "output_type": "execute_result"
    }
   ],
   "source": [
    "df1 = pd.DataFrame({'summed_number': a1.T[0],\n",
    "                   'operation': a1.T[1]})\n",
    "df1"
   ]
  },
  {
   "cell_type": "code",
   "execution_count": 636,
   "metadata": {},
   "outputs": [],
   "source": [
    "df1.to_csv('./answers/output_question_1', header=None, index=None, sep=' ')"
   ]
  },
  {
   "cell_type": "markdown",
   "metadata": {},
   "source": [
    "## Question 2: "
   ]
  },
  {
   "cell_type": "markdown",
   "metadata": {},
   "source": [
    "### Formulating \n",
    "\n",
    "![answer](./answers/output_question_2.jpeg)"
   ]
  },
  {
   "cell_type": "markdown",
   "metadata": {},
   "source": [
    "## Question 3: "
   ]
  },
  {
   "cell_type": "code",
   "execution_count": 5,
   "metadata": {},
   "outputs": [
    {
     "name": "stderr",
     "output_type": "stream",
     "text": [
      "Using TensorFlow backend.\n"
     ]
    }
   ],
   "source": [
    "from keras.models import Model, Sequential\n",
    "from keras.layers import Dense\n",
    "\n",
    "import tqdm\n",
    "from tqdm.keras import TqdmCallback"
   ]
  },
  {
   "cell_type": "code",
   "execution_count": 6,
   "metadata": {},
   "outputs": [
    {
     "data": {
      "text/plain": [
       "((10000, 3), (10000, 1), (2500, 3))"
      ]
     },
     "execution_count": 6,
     "metadata": {},
     "output_type": "execute_result"
    }
   ],
   "source": [
    "# load data\n",
    "X_train = pd.read_csv('./programming_interview_v10/Question 3/train_data.txt', sep = \"\\t\", header = 0).to_numpy()\n",
    "y_train = pd.read_csv('./programming_interview_v10/Question 3/train_truth.txt', sep = \"\\t\", header = 0).to_numpy()\n",
    "X_test = pd.read_csv('./programming_interview_v10/Question 3/test_data.txt', sep = \"\\t\", header = 0).to_numpy()\n",
    "\n",
    "X_train.shape, y_train.shape, X_test.shape"
   ]
  },
  {
   "cell_type": "code",
   "execution_count": 637,
   "metadata": {},
   "outputs": [
    {
     "name": "stdout",
     "output_type": "stream",
     "text": [
      "Model: \"sequential_2\"\n",
      "_________________________________________________________________\n",
      "Layer (type)                 Output Shape              Param #   \n",
      "=================================================================\n",
      "dense_6 (Dense)              (None, 4)                 16        \n",
      "_________________________________________________________________\n",
      "dense_7 (Dense)              (None, 4)                 20        \n",
      "_________________________________________________________________\n",
      "dense_8 (Dense)              (None, 4)                 20        \n",
      "_________________________________________________________________\n",
      "dense_9 (Dense)              (None, 4)                 20        \n",
      "_________________________________________________________________\n",
      "dense_10 (Dense)             (None, 1)                 5         \n",
      "=================================================================\n",
      "Total params: 81\n",
      "Trainable params: 81\n",
      "Non-trainable params: 0\n",
      "_________________________________________________________________\n"
     ]
    }
   ],
   "source": [
    "# define model\n",
    "def model():\n",
    "    \n",
    "    model = Sequential()\n",
    "    \n",
    "    # input layer/first hidden layer\n",
    "    model.add(Dense(4, input_dim = X_train.shape[1], activation='relu'))\n",
    "    \n",
    "    # hidden layers\n",
    "    model.add(Dense(4, activation = 'relu'))\n",
    "    model.add(Dense(4, activation = 'relu'))\n",
    "    model.add(Dense(4, activation = 'relu'))\n",
    "\n",
    "    # output layer\n",
    "    model.add(Dense(1, activation = 'linear'))\n",
    "    \n",
    "    model.compile(loss = \"mean_squared_error\",\n",
    "                  optimizer = 'adam', metrics = ['mean_absolute_percentage_error']) \n",
    "    \n",
    "\n",
    "    return model\n",
    "\n",
    "# Early stopping\n",
    "from keras.callbacks import EarlyStopping\n",
    "es = EarlyStopping(monitor = 'mean_absolute_percentage_error', verbose = 1,\n",
    "                   patience = 100, min_delta = 0.00001)\n",
    "\n",
    "model().summary()"
   ]
  },
  {
   "cell_type": "code",
   "execution_count": 8,
   "metadata": {},
   "outputs": [
    {
     "data": {
      "application/vnd.jupyter.widget-view+json": {
       "model_id": "14795954dbed4a2db8aa91b30543359c",
       "version_major": 2,
       "version_minor": 0
      },
      "text/plain": [
       "HBox(children=(FloatProgress(value=1.0, bar_style='info', max=1.0), HTML(value='')))"
      ]
     },
     "metadata": {},
     "output_type": "display_data"
    },
    {
     "data": {
      "application/vnd.jupyter.widget-view+json": {
       "model_id": "",
       "version_major": 2,
       "version_minor": 0
      },
      "text/plain": [
       "HBox(children=(FloatProgress(value=1.0, bar_style='info', max=1.0), HTML(value='')))"
      ]
     },
     "metadata": {},
     "output_type": "display_data"
    },
    {
     "name": "stdout",
     "output_type": "stream",
     "text": [
      "\n",
      "Epoch 03684: early stopping\n"
     ]
    }
   ],
   "source": [
    "# training\n",
    "model = model()\n",
    "history = model.fit(X_train, y_train, \n",
    "                    validation_split = 0.1, \n",
    "                    epochs = 5000, verbose = 0,\n",
    "                    batch_size = X_train.shape[0],                   \n",
    "                    callbacks = [TqdmCallback(verbose=1), es]\n",
    "                     )"
   ]
  },
  {
   "cell_type": "code",
   "execution_count": 10,
   "metadata": {},
   "outputs": [
    {
     "name": "stdout",
     "output_type": "stream",
     "text": [
      "Training mape: 2.91% / val mape: 2.77%\n",
      "Training loss: 0.00013 / val loss: 0.00014\n",
      "Training stopped at epoch: 3684\n"
     ]
    },
    {
     "data": {
      "image/png": "[encoded data removed]",
      "text/plain": [
       "<Figure size 1152x288 with 2 Axes>"
      ]
     },
     "metadata": {},
     "output_type": "display_data"
    }
   ],
   "source": [
    "his = pd.DataFrame(history.history)\n",
    "his['epoch'] = history.epoch\n",
    "\n",
    "fig, ax = plt.subplots(1, 2, figsize=(16, 4))\n",
    "\n",
    "his.plot(x='epoch', y=['loss', 'val_loss'], ax=ax[0])\n",
    "his.plot(x='epoch', y=['mean_absolute_percentage_error', 'val_mean_absolute_percentage_error'], ax=ax[1])\n",
    "\n",
    "print(\"Training mape: %.2f%% / val mape: %.2f%%\" % \n",
    "      (history.history['mean_absolute_percentage_error'][-1], history.history['val_mean_absolute_percentage_error'][-1]))\n",
    "print(\"Training loss: %.5f / val loss: %.5f\" % \n",
    "      (history.history['loss'][-1], history.history['val_loss'][-1]))\n",
    "print('Training stopped at epoch:', int(his.iloc[-1]['epoch']+1))"
   ]
  },
  {
   "cell_type": "code",
   "execution_count": 14,
   "metadata": {},
   "outputs": [
    {
     "name": "stdout",
     "output_type": "stream",
     "text": [
      "(2500, 1)\n"
     ]
    }
   ],
   "source": [
    "y_pred = model.predict(X_test)\n",
    "print(y_pred.shape)\n",
    "# np.savetxt('./answers/test_predicted.txt', y_pred)"
   ]
  },
  {
   "cell_type": "markdown",
   "metadata": {},
   "source": [
    "## Question 4: \n",
    "\n",
    "[library source](https://kite.com/python/docs/skimage.measure.label)\n",
    "\n",
    "__skimage.measure.label__  \n",
    "\n",
    "With the lack of a better explanation, it simply works to label connected regions of an integer array.\n",
    "\n",
    "__Parameters used__\n",
    "\n",
    "    input : ndarray of dtype int (Image to label).  \n",
    "    neighbors : {4, 8}, int, optional - Whether to use 4- or 8-\"connectivity\". In 3D, 4-\"connectivity\" means connected pixels have to share face, whereas with 8-\"connectivity\", they have to share only edge or vertex. "
   ]
  },
  {
   "cell_type": "code",
   "execution_count": 15,
   "metadata": {},
   "outputs": [
    {
     "name": "stdout",
     "output_type": "stream",
     "text": [
      "(10, 20)\n"
     ]
    },
    {
     "data": {
      "text/plain": [
       "array([[0, 0, 0, 0, 1, 1, 0, 0, 0, 1, 0, 1, 0, 1, 1, 1, 0, 0, 1, 1],\n",
       "       [1, 0, 1, 0, 0, 0, 0, 0, 1, 1, 0, 0, 0, 0, 1, 0, 0, 1, 0, 0],\n",
       "       [0, 1, 1, 1, 1, 1, 1, 0, 1, 0, 1, 0, 1, 0, 0, 0, 0, 0, 1, 0],\n",
       "       [0, 0, 0, 0, 1, 1, 0, 0, 0, 0, 1, 0, 0, 0, 1, 1, 1, 0, 1, 1],\n",
       "       [1, 0, 0, 1, 0, 0, 0, 0, 0, 0, 1, 1, 1, 0, 1, 1, 1, 0, 1, 1],\n",
       "       [1, 1, 1, 1, 0, 1, 0, 0, 0, 0, 0, 0, 0, 1, 0, 0, 1, 1, 0, 1],\n",
       "       [1, 1, 0, 0, 0, 0, 1, 0, 0, 0, 0, 1, 1, 0, 0, 0, 0, 1, 0, 1],\n",
       "       [0, 1, 0, 0, 0, 1, 1, 0, 0, 0, 0, 1, 1, 0, 0, 0, 0, 1, 1, 1],\n",
       "       [0, 0, 1, 1, 1, 0, 0, 1, 0, 1, 0, 0, 1, 0, 0, 0, 1, 1, 1, 0],\n",
       "       [1, 0, 1, 0, 1, 0, 1, 1, 1, 1, 0, 0, 1, 0, 1, 0, 0, 0, 0, 1]],\n",
       "      dtype=int64)"
      ]
     },
     "execution_count": 15,
     "metadata": {},
     "output_type": "execute_result"
    }
   ],
   "source": [
    "from skimage.measure import label\n",
    "\n",
    "img4 = pd.read_csv('./programming_interview_v10/Question 4/input_question_4', sep = \"\\t\", header = None).to_numpy()\n",
    "print(img4.shape)\n",
    "img4"
   ]
  },
  {
   "cell_type": "code",
   "execution_count": 157,
   "metadata": {
    "scrolled": false
   },
   "outputs": [
    {
     "name": "stdout",
     "output_type": "stream",
     "text": [
      "There are 8 clusters, based on 8-connectivity.\n"
     ]
    },
    {
     "data": {
      "text/plain": [
       "array([[0, 0, 0, 0, 1, 1, 0, 0, 0, 2, 0, 3, 0, 4, 4, 4, 0, 0, 2, 2],\n",
       "       [5, 0, 5, 0, 0, 0, 0, 0, 2, 2, 0, 0, 0, 0, 4, 0, 0, 2, 0, 0],\n",
       "       [0, 5, 5, 5, 5, 5, 5, 0, 2, 0, 2, 0, 6, 0, 0, 0, 0, 0, 2, 0],\n",
       "       [0, 0, 0, 0, 5, 5, 0, 0, 0, 0, 2, 0, 0, 0, 2, 2, 2, 0, 2, 2],\n",
       "       [5, 0, 0, 5, 0, 0, 0, 0, 0, 0, 2, 2, 2, 0, 2, 2, 2, 0, 2, 2],\n",
       "       [5, 5, 5, 5, 0, 5, 0, 0, 0, 0, 0, 0, 0, 2, 0, 0, 2, 2, 0, 2],\n",
       "       [5, 5, 0, 0, 0, 0, 5, 0, 0, 0, 0, 2, 2, 0, 0, 0, 0, 2, 0, 2],\n",
       "       [0, 5, 0, 0, 0, 5, 5, 0, 0, 0, 0, 2, 2, 0, 0, 0, 0, 2, 2, 2],\n",
       "       [0, 0, 5, 5, 5, 0, 0, 5, 0, 5, 0, 0, 2, 0, 0, 0, 2, 2, 2, 0],\n",
       "       [7, 0, 5, 0, 5, 0, 5, 5, 5, 5, 0, 0, 2, 0, 8, 0, 0, 0, 0, 2]],\n",
       "      dtype=int64)"
      ]
     },
     "execution_count": 157,
     "metadata": {},
     "output_type": "execute_result"
    }
   ],
   "source": [
    "labeled = label(img4, neighbors = 8)\n",
    "print('There are', labeled.max(), 'clusters, based on 8-connectivity.')\n",
    "labeled"
   ]
  },
  {
   "cell_type": "code",
   "execution_count": 17,
   "metadata": {},
   "outputs": [],
   "source": [
    "np.savetxt('./answers/output_question_4', labeled, fmt='%d')"
   ]
  },
  {
   "cell_type": "markdown",
   "metadata": {},
   "source": [
    "## Question 5: "
   ]
  },
  {
   "cell_type": "code",
   "execution_count": 703,
   "metadata": {},
   "outputs": [],
   "source": [
    "def cal(grid):\n",
    "    \n",
    "    penalty = 0\n",
    "    \n",
    "    L = grid.shape[0]\n",
    "    ravel = grid.ravel()\n",
    "    \n",
    "    for i in range(len(ravel)-1):  \n",
    "        # compare to the right\n",
    "        if ravel[i] == ravel[i+1]:\n",
    "                if (i+1)%L != 0:\n",
    "                    penalty += 1\n",
    "                    print(i, 'L')\n",
    "        # compare to the left\n",
    "        if i != 0:\n",
    "            if ravel[i] == ravel[i-1]:\n",
    "                if i%L != 0: \n",
    "                    penalty += 1\n",
    "                    print(i, 'R')\n",
    "        # compare to the top        \n",
    "        if i < len(ravel) - L:\n",
    "            if ravel[i] == ravel[i + L]:\n",
    "                penalty += 1\n",
    "                print(i, 'T')\n",
    "        # compare to the bottom\n",
    "        if i > L:\n",
    "            if ravel[i] == ravel[i - L]:\n",
    "                penalty += 1\n",
    "                print(i, 'B')                \n",
    "    return penalty"
   ]
  },
  {
   "cell_type": "markdown",
   "metadata": {},
   "source": [
    "### Question 5.1"
   ]
  },
  {
   "cell_type": "code",
   "execution_count": 704,
   "metadata": {
    "scrolled": true
   },
   "outputs": [
    {
     "data": {
      "text/plain": [
       "(array([['0', '0', '0', '0', '0'],\n",
       "        ['0', '0', '0', '0', '0'],\n",
       "        ['0', '0', '0', '0', '0'],\n",
       "        ['0', '0', '0', '0', '0'],\n",
       "        ['0', '0', '0', '0', '0']], dtype='<U11'),\n",
       " ['R', 'R', 'R', 'R', 'R', 'R', 'R', 'R', 'R', 'R', 'R', 'R'],\n",
       " ['B', 'B', 'B', 'B', 'B', 'B', 'B', 'B', 'B', 'B', 'B', 'B', 'B'])"
      ]
     },
     "execution_count": 704,
     "metadata": {},
     "output_type": "execute_result"
    }
   ],
   "source": [
    "R = ['R' for i in range(12)]\n",
    "B = ['B' for i in range(13)]\n",
    "\n",
    "# create the square grid\n",
    "L = np.zeros((5,5)).astype('int').astype('str')\n",
    "L, R, B"
   ]
  },
  {
   "cell_type": "code",
   "execution_count": 705,
   "metadata": {},
   "outputs": [
    {
     "data": {
      "text/plain": [
       "array([['B', 'R', 'B', 'R', 'B'],\n",
       "       ['R', 'B', 'R', 'B', 'R'],\n",
       "       ['B', 'R', 'B', 'R', 'B'],\n",
       "       ['R', 'B', 'R', 'B', 'R'],\n",
       "       ['B', 'R', 'B', 'R', 'B']], dtype='<U11')"
      ]
     },
     "execution_count": 705,
     "metadata": {},
     "output_type": "execute_result"
    }
   ],
   "source": [
    "# logically the answer is just to alternate the colours\n",
    "for i in range(len(L.ravel())): \n",
    "    l = L.ravel()\n",
    "\n",
    "    if i%2 == 0:\n",
    "        l[i] = B.pop()\n",
    "        \n",
    "    elif i%2 != 0:\n",
    "        l[i] = R.pop()\n",
    "        \n",
    "L = l.reshape(L.shape)\n",
    "L"
   ]
  },
  {
   "cell_type": "code",
   "execution_count": 702,
   "metadata": {
    "scrolled": true
   },
   "outputs": [
    {
     "name": "stdout",
     "output_type": "stream",
     "text": [
      "penalty = 0\n"
     ]
    }
   ],
   "source": [
    "# calculate the penalty of L\n",
    "print('penalty =', cal(L))"
   ]
  },
  {
   "cell_type": "code",
   "execution_count": 33,
   "metadata": {},
   "outputs": [],
   "source": [
    "np.savetxt('./answers/output_question_5_1', L.astype('str'), fmt = '%s')"
   ]
  },
  {
   "cell_type": "markdown",
   "metadata": {},
   "source": [
    "### Question 5.2"
   ]
  },
  {
   "cell_type": "markdown",
   "metadata": {},
   "source": [
    "Note: Since it is computationally impossible to permute all the combinations, i shall proceed this question with mere logic.  \n",
    "\n",
    "Since np.size(L)/2 = 2048, and len(G) + len(W) sums up to be 2049, they will take all alternate postions in the grid. This would leave one W in the list, and it will be used to fill the first row second column."
   ]
  },
  {
   "cell_type": "code",
   "execution_count": 707,
   "metadata": {
    "scrolled": true
   },
   "outputs": [],
   "source": [
    "L = np.zeros((64,64)).astype('int').astype('str')\n",
    "\n",
    "R = ['R' for i in range(139)]\n",
    "B = ['B' for i in range(1451)]\n",
    "G = ['G' for i in range(977)]\n",
    "W = ['W' for i in range(1072)]\n",
    "Y = ['Y' for i in range(457)]\n",
    "\n",
    "for row in range(len(L)):\n",
    "    if row%2 == 0:\n",
    "        for col in range(0, len(L), 2):\n",
    "            try:\n",
    "                L[row][col] = G.pop() \n",
    "            except:\n",
    "                L[row][col] = W.pop()\n",
    "                \n",
    "    elif row%2 != 0:\n",
    "        for col in range(1, len(L), 2):\n",
    "            try:\n",
    "                L[row][col] = G.pop()\n",
    "            except:\n",
    "                L[row][col] = W.pop()\n",
    "\n",
    "# fill the first row second column with the last W \n",
    "L[0][1] = W.pop() "
   ]
  },
  {
   "cell_type": "code",
   "execution_count": 708,
   "metadata": {},
   "outputs": [
    {
     "name": "stdout",
     "output_type": "stream",
     "text": [
      "1072 977\n",
      "Items left on the W, G list: 0 0\n"
     ]
    },
    {
     "data": {
      "text/plain": [
       "array([['G', 'W', 'G', ..., '0', 'G', '0'],\n",
       "       ['0', 'G', '0', ..., 'G', '0', 'G'],\n",
       "       ['G', '0', 'G', ..., '0', 'G', '0'],\n",
       "       ...,\n",
       "       ['0', 'W', '0', ..., 'W', '0', 'W'],\n",
       "       ['W', '0', 'W', ..., '0', 'W', '0'],\n",
       "       ['0', 'W', '0', ..., 'W', '0', 'W']], dtype='<U11')"
      ]
     },
     "execution_count": 708,
     "metadata": {},
     "output_type": "execute_result"
    }
   ],
   "source": [
    "# observe\n",
    "print(len(L[L == 'W']), len(L[L == 'G'])) \n",
    "print('Items left on the W, G list:', len(W), len(G))\n",
    "L"
   ]
  },
  {
   "cell_type": "markdown",
   "metadata": {},
   "source": [
    "Now, just fill the remaining 0 with the other coloured beads."
   ]
  },
  {
   "cell_type": "code",
   "execution_count": 709,
   "metadata": {},
   "outputs": [],
   "source": [
    "L = L.ravel()\n",
    "for index, colour in enumerate(L):\n",
    "    if colour == '0':\n",
    "        try:\n",
    "            L[index] = R.pop()\n",
    "        except:\n",
    "            break\n",
    "\n",
    "for index, colour in enumerate(L):\n",
    "    if colour == '0':\n",
    "        try:\n",
    "            L[index] = B.pop()\n",
    "        except:\n",
    "            break\n",
    "            \n",
    "for index, colour in enumerate(L):\n",
    "    if colour == '0':\n",
    "        try:\n",
    "            L[index] = Y.pop()\n",
    "        except:\n",
    "            break"
   ]
  },
  {
   "cell_type": "code",
   "execution_count": 710,
   "metadata": {
    "scrolled": true
   },
   "outputs": [
    {
     "name": "stdout",
     "output_type": "stream",
     "text": [
      "139 1451 977 1072 457\n"
     ]
    },
    {
     "data": {
      "text/plain": [
       "array([['G', 'W', 'G', ..., 'R', 'G', 'R'],\n",
       "       ['R', 'G', 'R', ..., 'G', 'R', 'G'],\n",
       "       ['G', 'R', 'G', ..., 'R', 'G', 'R'],\n",
       "       ...,\n",
       "       ['Y', 'W', 'Y', ..., 'W', 'Y', 'W'],\n",
       "       ['W', 'Y', 'W', ..., 'Y', 'W', 'Y'],\n",
       "       ['Y', 'W', 'Y', ..., 'W', 'Y', 'W']], dtype='<U11')"
      ]
     },
     "execution_count": 710,
     "metadata": {},
     "output_type": "execute_result"
    }
   ],
   "source": [
    "print(len(L[L == 'R']), len(L[L == 'B']), len(L[L == 'G']), len(L[L == 'W']), len(L[L == 'Y'])) \n",
    "L = L.reshape((64,64))\n",
    "L"
   ]
  },
  {
   "cell_type": "code",
   "execution_count": 711,
   "metadata": {
    "scrolled": false
   },
   "outputs": [
    {
     "name": "stdout",
     "output_type": "stream",
     "text": [
      "penalty = 0\n"
     ]
    }
   ],
   "source": [
    "# calculate the penalty of L\n",
    "print('penalty =', cal(L))"
   ]
  },
  {
   "cell_type": "code",
   "execution_count": 29,
   "metadata": {},
   "outputs": [],
   "source": [
    "np.savetxt('./answers/output_question_5_2', L.astype('str'), fmt = '%s')"
   ]
  },
  {
   "cell_type": "markdown",
   "metadata": {},
   "source": [
    "## Question 6"
   ]
  },
  {
   "cell_type": "code",
   "execution_count": null,
   "metadata": {},
   "outputs": [],
   "source": [
    "# conda install -c conda-forge shapely"
   ]
  },
  {
   "cell_type": "code",
   "execution_count": 132,
   "metadata": {
    "scrolled": true
   },
   "outputs": [],
   "source": [
    "from shapely.geometry import Point\n",
    "from shapely.geometry.polygon import Polygon\n",
    "\n",
    "# jsut for visualization\n",
    "import cv2 as cv2"
   ]
  },
  {
   "cell_type": "markdown",
   "metadata": {},
   "source": [
    "\n",
    "[__Shapely docs__](https://shapely.readthedocs.io/en/latest/manual.html)\n",
    "\n",
    "__Polygons__  \n",
    "class Polygon(shell[, holes=None])  \n",
    "The Polygon constructor takes two positional parameters. The first is an ordered sequence of (x, y[, z]) point tuples and is treated exactly as in the LinearRing case. The second is an optional unordered sequence of ring-like sequences specifying the interior boundaries or “holes” of the feature.  \n",
    "\n",
    "Rings of a valid Polygon may not cross each other, but may touch at a single point only. Again, Shapely will not prevent the creation of invalid features, but exceptions will be raised when they are operated on.\n",
    "\n",
    "__Points__  \n",
    "class Point(coordinates)  \n",
    "The Point constructor takes positional coordinate values or point tuple parameters."
   ]
  },
  {
   "cell_type": "code",
   "execution_count": 145,
   "metadata": {
    "scrolled": true
   },
   "outputs": [
    {
     "data": {
      "text/html": [
       "<div>\n",
       "<style scoped>\n",
       "    .dataframe tbody tr th:only-of-type {\n",
       "        vertical-align: middle;\n",
       "    }\n",
       "\n",
       "    .dataframe tbody tr th {\n",
       "        vertical-align: top;\n",
       "    }\n",
       "\n",
       "    .dataframe thead th {\n",
       "        text-align: right;\n",
       "    }\n",
       "</style>\n",
       "<table border=\"1\" class=\"dataframe\">\n",
       "  <thead>\n",
       "    <tr style=\"text-align: right;\">\n",
       "      <th></th>\n",
       "      <th>0</th>\n",
       "      <th>1</th>\n",
       "      <th>2</th>\n",
       "      <th>3</th>\n",
       "      <th>4</th>\n",
       "      <th>5</th>\n",
       "      <th>6</th>\n",
       "      <th>7</th>\n",
       "      <th>8</th>\n",
       "      <th>9</th>\n",
       "    </tr>\n",
       "  </thead>\n",
       "  <tbody>\n",
       "    <tr>\n",
       "      <th>x</th>\n",
       "      <td>7</td>\n",
       "      <td>10</td>\n",
       "      <td>11</td>\n",
       "      <td>12</td>\n",
       "      <td>16</td>\n",
       "      <td>16</td>\n",
       "      <td>17</td>\n",
       "      <td>18</td>\n",
       "      <td>18</td>\n",
       "      <td>20</td>\n",
       "    </tr>\n",
       "    <tr>\n",
       "      <th>y</th>\n",
       "      <td>11</td>\n",
       "      <td>14</td>\n",
       "      <td>4</td>\n",
       "      <td>21</td>\n",
       "      <td>3</td>\n",
       "      <td>10</td>\n",
       "      <td>4</td>\n",
       "      <td>7</td>\n",
       "      <td>17</td>\n",
       "      <td>7</td>\n",
       "    </tr>\n",
       "  </tbody>\n",
       "</table>\n",
       "</div>"
      ],
      "text/plain": [
       "    0   1   2   3   4   5   6   7   8   9\n",
       "x   7  10  11  12  16  16  17  18  18  20\n",
       "y  11  14   4  21   3  10   4   7  17   7"
      ]
     },
     "execution_count": 145,
     "metadata": {},
     "output_type": "execute_result"
    }
   ],
   "source": [
    "# generating dataframe for the input coordinates\n",
    "df6 = pd.DataFrame({'x' : [7, 10, 11, 12, 16, 16, 17, 18, 18, 20],\n",
    "                           'y' : [11, 14, 4, 21, 3, 10, 4, 7, 17, 7]})\n",
    "df6.T"
   ]
  },
  {
   "cell_type": "code",
   "execution_count": 134,
   "metadata": {},
   "outputs": [
    {
     "data": {
      "image/svg+xml": [
       "<svg xmlns=\"http://www.w3.org/2000/svg\" xmlns:xlink=\"http://www.w3.org/1999/xlink\" width=\"100.0\" height=\"100.0\" viewBox=\"1.28 2.2800000000000002 19.439999999999998 19.439999999999998\" preserveAspectRatio=\"xMinYMin meet\"><g transform=\"matrix(1,0,0,-1,0,24.0)\"><path fill-rule=\"evenodd\" fill=\"#66cc99\" stroke=\"#555555\" stroke-width=\"0.3888\" opacity=\"0.6\" d=\"M 4.0,3.0 L 2.0,6.0 L 3.0,12.0 L 2.0,17.0 L 5.0,20.0 L 9.0,21.0 L 14.0,19.0 L 20.0,14.0 L 18.0,3.0 L 11.0,7.0 L 4.0,3.0 z\" /></g></svg>"
      ],
      "text/plain": [
       "<shapely.geometry.polygon.Polygon at 0x2d2254c99c8>"
      ]
     },
     "execution_count": 134,
     "metadata": {},
     "output_type": "execute_result"
    }
   ],
   "source": [
    "poly = [[4, 3],\n",
    "        [2, 6],\n",
    "        [3, 12],\n",
    "        [2, 17],\n",
    "        [5, 20],\n",
    "        [9, 21],\n",
    "        [14, 19],\n",
    "        [20, 14],\n",
    "        [18, 3],\n",
    "        [11, 7]]\n",
    "polygon = Polygon(poly)\n",
    "polygon"
   ]
  },
  {
   "cell_type": "code",
   "execution_count": 144,
   "metadata": {
    "scrolled": false
   },
   "outputs": [
    {
     "data": {
      "text/html": [
       "<div>\n",
       "<style scoped>\n",
       "    .dataframe tbody tr th:only-of-type {\n",
       "        vertical-align: middle;\n",
       "    }\n",
       "\n",
       "    .dataframe tbody tr th {\n",
       "        vertical-align: top;\n",
       "    }\n",
       "\n",
       "    .dataframe thead th {\n",
       "        text-align: right;\n",
       "    }\n",
       "</style>\n",
       "<table border=\"1\" class=\"dataframe\">\n",
       "  <thead>\n",
       "    <tr style=\"text-align: right;\">\n",
       "      <th></th>\n",
       "      <th>0</th>\n",
       "      <th>1</th>\n",
       "      <th>2</th>\n",
       "      <th>3</th>\n",
       "      <th>4</th>\n",
       "      <th>5</th>\n",
       "      <th>6</th>\n",
       "      <th>7</th>\n",
       "      <th>8</th>\n",
       "      <th>9</th>\n",
       "    </tr>\n",
       "  </thead>\n",
       "  <tbody>\n",
       "    <tr>\n",
       "      <th>x</th>\n",
       "      <td>7</td>\n",
       "      <td>10</td>\n",
       "      <td>11</td>\n",
       "      <td>12</td>\n",
       "      <td>16</td>\n",
       "      <td>16</td>\n",
       "      <td>17</td>\n",
       "      <td>18</td>\n",
       "      <td>18</td>\n",
       "      <td>20</td>\n",
       "    </tr>\n",
       "    <tr>\n",
       "      <th>y</th>\n",
       "      <td>11</td>\n",
       "      <td>14</td>\n",
       "      <td>4</td>\n",
       "      <td>21</td>\n",
       "      <td>3</td>\n",
       "      <td>10</td>\n",
       "      <td>4</td>\n",
       "      <td>7</td>\n",
       "      <td>17</td>\n",
       "      <td>7</td>\n",
       "    </tr>\n",
       "    <tr>\n",
       "      <th>inside_or_outside</th>\n",
       "      <td>inside</td>\n",
       "      <td>inside</td>\n",
       "      <td>outside</td>\n",
       "      <td>outside</td>\n",
       "      <td>outside</td>\n",
       "      <td>inside</td>\n",
       "      <td>inside</td>\n",
       "      <td>inside</td>\n",
       "      <td>outside</td>\n",
       "      <td>outside</td>\n",
       "    </tr>\n",
       "  </tbody>\n",
       "</table>\n",
       "</div>"
      ],
      "text/plain": [
       "                        0       1        2        3        4       5       6  \\\n",
       "x                       7      10       11       12       16      16      17   \n",
       "y                      11      14        4       21        3      10       4   \n",
       "inside_or_outside  inside  inside  outside  outside  outside  inside  inside   \n",
       "\n",
       "                        7        8        9  \n",
       "x                      18       18       20  \n",
       "y                       7       17        7  \n",
       "inside_or_outside  inside  outside  outside  "
      ]
     },
     "execution_count": 144,
     "metadata": {},
     "output_type": "execute_result"
    }
   ],
   "source": [
    "out6 = []\n",
    "\n",
    "for index, row in df6.iterrows():\n",
    "    point = Point(row.x, row.y)\n",
    "    if polygon.contains(point) == True:\n",
    "        out6.append('inside')\n",
    "    else:\n",
    "        out6.append('outside')\n",
    "    \n",
    "df6['inside_or_outside'] = out6\n",
    "df6.T"
   ]
  },
  {
   "cell_type": "code",
   "execution_count": 135,
   "metadata": {},
   "outputs": [
    {
     "data": {
      "image/svg+xml": [
       "<svg xmlns=\"http://www.w3.org/2000/svg\" xmlns:xlink=\"http://www.w3.org/1999/xlink\" width=\"100.0\" height=\"100.0\" viewBox=\"19.0 6.0 2.0 2.0\" preserveAspectRatio=\"xMinYMin meet\"><g transform=\"matrix(1,0,0,-1,0,14.0)\"><circle cx=\"20.0\" cy=\"7.0\" r=\"0.06\" stroke=\"#555555\" stroke-width=\"0.02\" fill=\"#66cc99\" opacity=\"0.6\" /></g></svg>"
      ],
      "text/plain": [
       "<shapely.geometry.point.Point at 0x2d226d873c8>"
      ]
     },
     "execution_count": 135,
     "metadata": {},
     "output_type": "execute_result"
    }
   ],
   "source": [
    "point"
   ]
  },
  {
   "cell_type": "code",
   "execution_count": 37,
   "metadata": {},
   "outputs": [],
   "source": [
    "df6.to_csv('./answers/output_question_6', header=None, index=None, sep=' ')"
   ]
  },
  {
   "cell_type": "markdown",
   "metadata": {},
   "source": [
    "### Visualisation/Verification"
   ]
  },
  {
   "cell_type": "code",
   "execution_count": 38,
   "metadata": {},
   "outputs": [],
   "source": [
    "def show(image, title = 'Image', figsize = (5, 5)):\n",
    "    plt.figure(figsize = figsize)\n",
    "    plt.imshow(image, cmap = 'gray')\n",
    "    plt.title(title)\n",
    "    plt.axis('off')"
   ]
  },
  {
   "cell_type": "code",
   "execution_count": 712,
   "metadata": {},
   "outputs": [
    {
     "data": {
      "image/png": "[encoded data removed]",
      "text/plain": [
       "<Figure size 360x360 with 1 Axes>"
      ]
     },
     "metadata": {},
     "output_type": "display_data"
    }
   ],
   "source": [
    "# create a whitish image to draw the polygon\n",
    "empty = np.zeros((25,25,3), dtype=np.uint8)\n",
    "empty.fill(250)\n",
    "\n",
    "pts = np.array(poly, int)\n",
    "pts = pts.reshape((-1,1,2))\n",
    "\n",
    "# Syntax: cv2.polylines(image, [pts], isClosed, color, thickness)\n",
    "cv2.polylines(empty, [pts], True, (0,0,0), 1) \n",
    "show(empty, 'polygon')"
   ]
  },
  {
   "cell_type": "code",
   "execution_count": 40,
   "metadata": {
    "scrolled": true
   },
   "outputs": [
    {
     "data": {
      "image/png": "[encoded data removed]",
      "text/plain": [
       "<Figure size 360x360 with 1 Axes>"
      ]
     },
     "metadata": {},
     "output_type": "display_data"
    }
   ],
   "source": [
    "for index, row in df6.iterrows():\n",
    "    if row.inside_or_outside == 'inside':\n",
    "        cv2.circle(empty, (row.x, row.y), 0, (0,255,0), 0)\n",
    "    else: \n",
    "        cv2.circle(empty, (row.x, row.y), 0, (255,0,0), 0)\n",
    "\n",
    "show(empty, 'coordinates visualisation')"
   ]
  },
  {
   "cell_type": "markdown",
   "metadata": {},
   "source": [
    "## Question 7:"
   ]
  },
  {
   "cell_type": "markdown",
   "metadata": {},
   "source": [
    "### Question 7.1a: \n",
    "\n",
    "Mathematical equation for 2D."
   ]
  },
  {
   "cell_type": "markdown",
   "metadata": {},
   "source": [
    "__Answer__\n",
    "\n",
    "The equation to convert coords to index can be represented as the following equation:\n",
    "\n",
    "\\begin{eqnarray}\n",
    "I_{(x_1,x_2)} = x_1 + L_1 * x_2\n",
    "\\end{eqnarray}\n",
    "\n",
    "Whereas, the inverse equations to convert index into coords for 2D can be represented as,\n",
    "\n",
    "\\begin{eqnarray}\n",
    "x_1,x_2 = I mod L_1, floor(\\frac{I}{L_1})\n",
    "\\end{eqnarray}\n",
    "\n",
    "where floor() is the floor function, and mod is the modulo operation."
   ]
  },
  {
   "cell_type": "markdown",
   "metadata": {},
   "source": [
    "#### Question 7.1b\n",
    "\n",
    "grid = (50, 57)"
   ]
  },
  {
   "cell_type": "markdown",
   "metadata": {},
   "source": [
    "- Convert coords to index"
   ]
  },
  {
   "cell_type": "code",
   "execution_count": 119,
   "metadata": {
    "scrolled": false
   },
   "outputs": [
    {
     "name": "stdout",
     "output_type": "stream",
     "text": [
      "(1425, 2)\n"
     ]
    },
    {
     "data": {
      "text/html": [
       "<div>\n",
       "<style scoped>\n",
       "    .dataframe tbody tr th:only-of-type {\n",
       "        vertical-align: middle;\n",
       "    }\n",
       "\n",
       "    .dataframe tbody tr th {\n",
       "        vertical-align: top;\n",
       "    }\n",
       "\n",
       "    .dataframe thead th {\n",
       "        text-align: right;\n",
       "    }\n",
       "</style>\n",
       "<table border=\"1\" class=\"dataframe\">\n",
       "  <thead>\n",
       "    <tr style=\"text-align: right;\">\n",
       "      <th></th>\n",
       "      <th>x1</th>\n",
       "      <th>x2</th>\n",
       "    </tr>\n",
       "  </thead>\n",
       "  <tbody>\n",
       "    <tr>\n",
       "      <th>0</th>\n",
       "      <td>16</td>\n",
       "      <td>55</td>\n",
       "    </tr>\n",
       "    <tr>\n",
       "      <th>1</th>\n",
       "      <td>27</td>\n",
       "      <td>10</td>\n",
       "    </tr>\n",
       "  </tbody>\n",
       "</table>\n",
       "</div>"
      ],
      "text/plain": [
       "   x1  x2\n",
       "0  16  55\n",
       "1  27  10"
      ]
     },
     "execution_count": 119,
     "metadata": {},
     "output_type": "execute_result"
    }
   ],
   "source": [
    "coor7 = pd.read_csv('./programming_interview_v10/Question 7/Question 7.1/input_coordinates_7_1.txt', sep = \"\\t\")\n",
    "print(coor7.shape)\n",
    "coor7.head(2)"
   ]
  },
  {
   "cell_type": "code",
   "execution_count": 120,
   "metadata": {},
   "outputs": [
    {
     "data": {
      "text/html": [
       "<div>\n",
       "<style scoped>\n",
       "    .dataframe tbody tr th:only-of-type {\n",
       "        vertical-align: middle;\n",
       "    }\n",
       "\n",
       "    .dataframe tbody tr th {\n",
       "        vertical-align: top;\n",
       "    }\n",
       "\n",
       "    .dataframe thead th {\n",
       "        text-align: right;\n",
       "    }\n",
       "</style>\n",
       "<table border=\"1\" class=\"dataframe\">\n",
       "  <thead>\n",
       "    <tr style=\"text-align: right;\">\n",
       "      <th></th>\n",
       "      <th>x1</th>\n",
       "      <th>x2</th>\n",
       "      <th>index</th>\n",
       "    </tr>\n",
       "  </thead>\n",
       "  <tbody>\n",
       "    <tr>\n",
       "      <th>0</th>\n",
       "      <td>16</td>\n",
       "      <td>55</td>\n",
       "      <td>2766</td>\n",
       "    </tr>\n",
       "    <tr>\n",
       "      <th>1</th>\n",
       "      <td>27</td>\n",
       "      <td>10</td>\n",
       "      <td>527</td>\n",
       "    </tr>\n",
       "  </tbody>\n",
       "</table>\n",
       "</div>"
      ],
      "text/plain": [
       "   x1  x2  index\n",
       "0  16  55   2766\n",
       "1  27  10    527"
      ]
     },
     "execution_count": 120,
     "metadata": {},
     "output_type": "execute_result"
    }
   ],
   "source": [
    "coor7['index'] = coor7.x1 + 50*coor7.x2\n",
    "coor7.head(2)"
   ]
  },
  {
   "cell_type": "code",
   "execution_count": 114,
   "metadata": {
    "scrolled": true
   },
   "outputs": [],
   "source": [
    "coor7['index'].to_csv('./answers/output_index_7_1.txt', header = True, index=None, sep='\\t')"
   ]
  },
  {
   "cell_type": "markdown",
   "metadata": {},
   "source": [
    "- convert index to coords  "
   ]
  },
  {
   "cell_type": "code",
   "execution_count": 115,
   "metadata": {
    "scrolled": true
   },
   "outputs": [
    {
     "data": {
      "text/html": [
       "<div>\n",
       "<style scoped>\n",
       "    .dataframe tbody tr th:only-of-type {\n",
       "        vertical-align: middle;\n",
       "    }\n",
       "\n",
       "    .dataframe tbody tr th {\n",
       "        vertical-align: top;\n",
       "    }\n",
       "\n",
       "    .dataframe thead th {\n",
       "        text-align: right;\n",
       "    }\n",
       "</style>\n",
       "<table border=\"1\" class=\"dataframe\">\n",
       "  <thead>\n",
       "    <tr style=\"text-align: right;\">\n",
       "      <th></th>\n",
       "      <th>index</th>\n",
       "    </tr>\n",
       "  </thead>\n",
       "  <tbody>\n",
       "    <tr>\n",
       "      <th>0</th>\n",
       "      <td>2283</td>\n",
       "    </tr>\n",
       "    <tr>\n",
       "      <th>1</th>\n",
       "      <td>332</td>\n",
       "    </tr>\n",
       "  </tbody>\n",
       "</table>\n",
       "</div>"
      ],
      "text/plain": [
       "   index\n",
       "0   2283\n",
       "1    332"
      ]
     },
     "execution_count": 115,
     "metadata": {},
     "output_type": "execute_result"
    }
   ],
   "source": [
    "index7 = pd.read_csv('./programming_interview_v10/Question 7/Question 7.1/input_index_7_1.txt')\n",
    "index7.head(2)"
   ]
  },
  {
   "cell_type": "code",
   "execution_count": 121,
   "metadata": {},
   "outputs": [
    {
     "data": {
      "text/html": [
       "<div>\n",
       "<style scoped>\n",
       "    .dataframe tbody tr th:only-of-type {\n",
       "        vertical-align: middle;\n",
       "    }\n",
       "\n",
       "    .dataframe tbody tr th {\n",
       "        vertical-align: top;\n",
       "    }\n",
       "\n",
       "    .dataframe thead th {\n",
       "        text-align: right;\n",
       "    }\n",
       "</style>\n",
       "<table border=\"1\" class=\"dataframe\">\n",
       "  <thead>\n",
       "    <tr style=\"text-align: right;\">\n",
       "      <th></th>\n",
       "      <th>index</th>\n",
       "      <th>x1</th>\n",
       "      <th>x2</th>\n",
       "    </tr>\n",
       "  </thead>\n",
       "  <tbody>\n",
       "    <tr>\n",
       "      <th>0</th>\n",
       "      <td>2283</td>\n",
       "      <td>33</td>\n",
       "      <td>45</td>\n",
       "    </tr>\n",
       "    <tr>\n",
       "      <th>1</th>\n",
       "      <td>332</td>\n",
       "      <td>32</td>\n",
       "      <td>6</td>\n",
       "    </tr>\n",
       "  </tbody>\n",
       "</table>\n",
       "</div>"
      ],
      "text/plain": [
       "   index  x1  x2\n",
       "0   2283  33  45\n",
       "1    332  32   6"
      ]
     },
     "execution_count": 121,
     "metadata": {},
     "output_type": "execute_result"
    }
   ],
   "source": [
    "index7['x1'] = index7['index'] % 50\n",
    "index7['x2'] = index7['index'] // 50\n",
    "\n",
    "index7.head(2)"
   ]
  },
  {
   "cell_type": "code",
   "execution_count": 118,
   "metadata": {},
   "outputs": [],
   "source": [
    "index7.loc[:,'x1':'x2'].to_csv('./answers/output_coordinates_7_1.txt', header = True, index=None, sep='\\t')"
   ]
  },
  {
   "cell_type": "markdown",
   "metadata": {},
   "source": [
    "- Convert coords to index"
   ]
  },
  {
   "cell_type": "markdown",
   "metadata": {},
   "source": [
    "### Question 7.2a: \n",
    "\n",
    "__Answer__\n",
    "\n",
    "The equation to convert coords to index can be represented as the following equation:\n",
    "\n",
    "\\begin{eqnarray}\n",
    "I_{(x_1,x_2, ..., x_d)} = x_1 + (L_1 * x_2) +  (L_1 * L_2 * x_3)  +  ... +  (L_1 * L_2 * \\cdot\\cdot\\cdot * L_{d-1}) * x_d)\n",
    "\\end{eqnarray}\n",
    "\n",
    "Whereas, the inverse equation to convert index into coords can be represented as,\n",
    "\n",
    "\\begin{eqnarray}\n",
    "x_1,x_2, ..., x_d = I mod L_1, floor(\\frac{I mod \\[L_1*L_2\\]}{L_1}), ..., floor(\\frac{I mod \\[L_1 * L_2 * \\cdot\\cdot\\cdot * L_{d-2}\\]}{L_1 * L_2 * \\cdot\\cdot\\cdot * L_{d-2}}) , floor(\\frac{I}{L_1 * L_2 * \\cdot\\cdot\\cdot * L_{d-1}})\n",
    "\\end{eqnarray}\n",
    "\n",
    "where floor() is the floor function, and mod denotes the modulo operation."
   ]
  },
  {
   "cell_type": "markdown",
   "metadata": {},
   "source": [
    "#### Question 7.2b\n",
    "\n",
    "\n",
    "6D = (4, 8, 5, 9, 6, 7),"
   ]
  },
  {
   "cell_type": "markdown",
   "metadata": {},
   "source": [
    "- convert coords to index  "
   ]
  },
  {
   "cell_type": "code",
   "execution_count": 74,
   "metadata": {},
   "outputs": [
    {
     "data": {
      "text/html": [
       "<div>\n",
       "<style scoped>\n",
       "    .dataframe tbody tr th:only-of-type {\n",
       "        vertical-align: middle;\n",
       "    }\n",
       "\n",
       "    .dataframe tbody tr th {\n",
       "        vertical-align: top;\n",
       "    }\n",
       "\n",
       "    .dataframe thead th {\n",
       "        text-align: right;\n",
       "    }\n",
       "</style>\n",
       "<table border=\"1\" class=\"dataframe\">\n",
       "  <thead>\n",
       "    <tr style=\"text-align: right;\">\n",
       "      <th></th>\n",
       "      <th>x1</th>\n",
       "      <th>x2</th>\n",
       "      <th>x3</th>\n",
       "      <th>x4</th>\n",
       "      <th>x5</th>\n",
       "      <th>x6</th>\n",
       "    </tr>\n",
       "  </thead>\n",
       "  <tbody>\n",
       "    <tr>\n",
       "      <th>0</th>\n",
       "      <td>3</td>\n",
       "      <td>2</td>\n",
       "      <td>2</td>\n",
       "      <td>7</td>\n",
       "      <td>4</td>\n",
       "      <td>6</td>\n",
       "    </tr>\n",
       "    <tr>\n",
       "      <th>1</th>\n",
       "      <td>0</td>\n",
       "      <td>0</td>\n",
       "      <td>0</td>\n",
       "      <td>0</td>\n",
       "      <td>2</td>\n",
       "      <td>5</td>\n",
       "    </tr>\n",
       "    <tr>\n",
       "      <th>2</th>\n",
       "      <td>0</td>\n",
       "      <td>2</td>\n",
       "      <td>1</td>\n",
       "      <td>4</td>\n",
       "      <td>5</td>\n",
       "      <td>6</td>\n",
       "    </tr>\n",
       "    <tr>\n",
       "      <th>3</th>\n",
       "      <td>2</td>\n",
       "      <td>7</td>\n",
       "      <td>3</td>\n",
       "      <td>4</td>\n",
       "      <td>5</td>\n",
       "      <td>6</td>\n",
       "    </tr>\n",
       "    <tr>\n",
       "      <th>4</th>\n",
       "      <td>2</td>\n",
       "      <td>5</td>\n",
       "      <td>1</td>\n",
       "      <td>3</td>\n",
       "      <td>1</td>\n",
       "      <td>2</td>\n",
       "    </tr>\n",
       "  </tbody>\n",
       "</table>\n",
       "</div>"
      ],
      "text/plain": [
       "   x1  x2  x3  x4  x5  x6\n",
       "0   3   2   2   7   4   6\n",
       "1   0   0   0   0   2   5\n",
       "2   0   2   1   4   5   6\n",
       "3   2   7   3   4   5   6\n",
       "4   2   5   1   3   1   2"
      ]
     },
     "execution_count": 74,
     "metadata": {},
     "output_type": "execute_result"
    }
   ],
   "source": [
    "coor7_2 = pd.read_csv('./programming_interview_v10/Question 7/Question 7.2/input_coordinates_7_2.txt', sep = \"\\t\")\n",
    "coor7_2.head()"
   ]
  },
  {
   "cell_type": "code",
   "execution_count": 122,
   "metadata": {
    "scrolled": true
   },
   "outputs": [
    {
     "data": {
      "text/html": [
       "<div>\n",
       "<style scoped>\n",
       "    .dataframe tbody tr th:only-of-type {\n",
       "        vertical-align: middle;\n",
       "    }\n",
       "\n",
       "    .dataframe tbody tr th {\n",
       "        vertical-align: top;\n",
       "    }\n",
       "\n",
       "    .dataframe thead th {\n",
       "        text-align: right;\n",
       "    }\n",
       "</style>\n",
       "<table border=\"1\" class=\"dataframe\">\n",
       "  <thead>\n",
       "    <tr style=\"text-align: right;\">\n",
       "      <th></th>\n",
       "      <th>x1</th>\n",
       "      <th>x2</th>\n",
       "      <th>x3</th>\n",
       "      <th>x4</th>\n",
       "      <th>x5</th>\n",
       "      <th>x6</th>\n",
       "      <th>index</th>\n",
       "    </tr>\n",
       "  </thead>\n",
       "  <tbody>\n",
       "    <tr>\n",
       "      <th>0</th>\n",
       "      <td>3</td>\n",
       "      <td>2</td>\n",
       "      <td>2</td>\n",
       "      <td>7</td>\n",
       "      <td>4</td>\n",
       "      <td>6</td>\n",
       "      <td>58795</td>\n",
       "    </tr>\n",
       "    <tr>\n",
       "      <th>1</th>\n",
       "      <td>0</td>\n",
       "      <td>0</td>\n",
       "      <td>0</td>\n",
       "      <td>0</td>\n",
       "      <td>2</td>\n",
       "      <td>5</td>\n",
       "      <td>46080</td>\n",
       "    </tr>\n",
       "  </tbody>\n",
       "</table>\n",
       "</div>"
      ],
      "text/plain": [
       "   x1  x2  x3  x4  x5  x6  index\n",
       "0   3   2   2   7   4   6  58795\n",
       "1   0   0   0   0   2   5  46080"
      ]
     },
     "execution_count": 122,
     "metadata": {},
     "output_type": "execute_result"
    }
   ],
   "source": [
    "coor7_2['index'] = coor7_2.x1 + 4*coor7_2.x2 + 4*8*coor7_2.x3 + 4*8*5*coor7_2.x4 + 4*8*5*9*coor7_2.x5 + 4*8*5*9*6*coor7_2.x6\n",
    "coor7_2.head(2)"
   ]
  },
  {
   "cell_type": "code",
   "execution_count": 79,
   "metadata": {},
   "outputs": [],
   "source": [
    "coor7_2['index'].to_csv('./answers/output_index_7_2.txt', header = True, index=None, sep=' ')"
   ]
  },
  {
   "cell_type": "markdown",
   "metadata": {},
   "source": [
    "- convert given index to coords  "
   ]
  },
  {
   "cell_type": "code",
   "execution_count": 110,
   "metadata": {},
   "outputs": [
    {
     "name": "stdout",
     "output_type": "stream",
     "text": [
      "(30240, 1)\n"
     ]
    },
    {
     "data": {
      "text/html": [
       "<div>\n",
       "<style scoped>\n",
       "    .dataframe tbody tr th:only-of-type {\n",
       "        vertical-align: middle;\n",
       "    }\n",
       "\n",
       "    .dataframe tbody tr th {\n",
       "        vertical-align: top;\n",
       "    }\n",
       "\n",
       "    .dataframe thead th {\n",
       "        text-align: right;\n",
       "    }\n",
       "</style>\n",
       "<table border=\"1\" class=\"dataframe\">\n",
       "  <thead>\n",
       "    <tr style=\"text-align: right;\">\n",
       "      <th></th>\n",
       "      <th>index</th>\n",
       "    </tr>\n",
       "  </thead>\n",
       "  <tbody>\n",
       "    <tr>\n",
       "      <th>0</th>\n",
       "      <td>42985</td>\n",
       "    </tr>\n",
       "    <tr>\n",
       "      <th>1</th>\n",
       "      <td>34130</td>\n",
       "    </tr>\n",
       "  </tbody>\n",
       "</table>\n",
       "</div>"
      ],
      "text/plain": [
       "   index\n",
       "0  42985\n",
       "1  34130"
      ]
     },
     "execution_count": 110,
     "metadata": {},
     "output_type": "execute_result"
    }
   ],
   "source": [
    "index7_2 = pd.read_csv('./programming_interview_v10/Question 7/Question 7.2/input_index_7_2.txt', sep = \"\\t\")\n",
    "print(index7_2.shape)\n",
    "index7_2.head(2)"
   ]
  },
  {
   "cell_type": "code",
   "execution_count": 102,
   "metadata": {},
   "outputs": [],
   "source": [
    "X1=[]\n",
    "X2=[]\n",
    "X3=[]\n",
    "X4=[]\n",
    "X5=[]\n",
    "X6=[]\n",
    "\n",
    "def find_coords(I, a=4,b=8,c=5,d=9,e=6):\n",
    "    x1 = I%a\n",
    "    \n",
    "    mod1 = I%(a*b)\n",
    "    x2 = mod1//a\n",
    "\n",
    "    mod2 = I%(a*b*c)    \n",
    "    x3 = mod2//(a*b)\n",
    "    \n",
    "    mod3 = I%(a*b*c*d)\n",
    "    x4 = mod3//(a*b*c)\n",
    "    \n",
    "    mod4 = I%(a*b*c*d*e)\n",
    "    x5 = mod4//(a*b*c*d)\n",
    "    \n",
    "    x6 = I//(a*b*c*d*e)\n",
    "    \n",
    "    X1.append(int(x1))\n",
    "    X2.append(int(x2))\n",
    "    X3.append(int(x3))\n",
    "    X4.append(int(x4))\n",
    "    X5.append(int(x5))\n",
    "    X6.append(int(x6))"
   ]
  },
  {
   "cell_type": "code",
   "execution_count": 103,
   "metadata": {},
   "outputs": [
    {
     "data": {
      "text/plain": [
       "(30240, 30240, 30240, 30240, 30240, 30240)"
      ]
     },
     "execution_count": 103,
     "metadata": {},
     "output_type": "execute_result"
    }
   ],
   "source": [
    "[find_coords(i) for i in index7_2['index']]\n",
    "len(X1), len(X2), len(X3), len(X4), len(X5), len(X6)"
   ]
  },
  {
   "cell_type": "code",
   "execution_count": 104,
   "metadata": {
    "collapsed": true
   },
   "outputs": [
    {
     "data": {
      "text/html": [
       "<div>\n",
       "<style scoped>\n",
       "    .dataframe tbody tr th:only-of-type {\n",
       "        vertical-align: middle;\n",
       "    }\n",
       "\n",
       "    .dataframe tbody tr th {\n",
       "        vertical-align: top;\n",
       "    }\n",
       "\n",
       "    .dataframe thead th {\n",
       "        text-align: right;\n",
       "    }\n",
       "</style>\n",
       "<table border=\"1\" class=\"dataframe\">\n",
       "  <thead>\n",
       "    <tr style=\"text-align: right;\">\n",
       "      <th></th>\n",
       "      <th>index</th>\n",
       "      <th>x1</th>\n",
       "      <th>x2</th>\n",
       "      <th>x3</th>\n",
       "      <th>x4</th>\n",
       "      <th>x5</th>\n",
       "      <th>x6</th>\n",
       "    </tr>\n",
       "  </thead>\n",
       "  <tbody>\n",
       "    <tr>\n",
       "      <th>0</th>\n",
       "      <td>42985</td>\n",
       "      <td>1</td>\n",
       "      <td>2</td>\n",
       "      <td>3</td>\n",
       "      <td>7</td>\n",
       "      <td>5</td>\n",
       "      <td>4</td>\n",
       "    </tr>\n",
       "    <tr>\n",
       "      <th>1</th>\n",
       "      <td>34130</td>\n",
       "      <td>2</td>\n",
       "      <td>4</td>\n",
       "      <td>1</td>\n",
       "      <td>6</td>\n",
       "      <td>5</td>\n",
       "      <td>3</td>\n",
       "    </tr>\n",
       "    <tr>\n",
       "      <th>2</th>\n",
       "      <td>17187</td>\n",
       "      <td>3</td>\n",
       "      <td>0</td>\n",
       "      <td>2</td>\n",
       "      <td>8</td>\n",
       "      <td>5</td>\n",
       "      <td>1</td>\n",
       "    </tr>\n",
       "    <tr>\n",
       "      <th>3</th>\n",
       "      <td>30765</td>\n",
       "      <td>1</td>\n",
       "      <td>3</td>\n",
       "      <td>1</td>\n",
       "      <td>3</td>\n",
       "      <td>3</td>\n",
       "      <td>3</td>\n",
       "    </tr>\n",
       "    <tr>\n",
       "      <th>4</th>\n",
       "      <td>29142</td>\n",
       "      <td>2</td>\n",
       "      <td>5</td>\n",
       "      <td>0</td>\n",
       "      <td>2</td>\n",
       "      <td>2</td>\n",
       "      <td>3</td>\n",
       "    </tr>\n",
       "  </tbody>\n",
       "</table>\n",
       "</div>"
      ],
      "text/plain": [
       "   index  x1  x2  x3  x4  x5  x6\n",
       "0  42985   1   2   3   7   5   4\n",
       "1  34130   2   4   1   6   5   3\n",
       "2  17187   3   0   2   8   5   1\n",
       "3  30765   1   3   1   3   3   3\n",
       "4  29142   2   5   0   2   2   3"
      ]
     },
     "execution_count": 104,
     "metadata": {},
     "output_type": "execute_result"
    }
   ],
   "source": [
    "index7_2['x1'] = X1\n",
    "index7_2['x2'] = X2\n",
    "index7_2['x3'] = X3\n",
    "index7_2['x4'] = X4\n",
    "index7_2['x5'] = X5\n",
    "index7_2['x6'] = X6\n",
    "\n",
    "index7_2.head()"
   ]
  },
  {
   "cell_type": "code",
   "execution_count": 109,
   "metadata": {},
   "outputs": [],
   "source": [
    "index7_2.iloc[:, 1:].to_csv('./answers/output_coordinates_7_2.txt', header = True, index=None, sep='\\t')"
   ]
  }
 ],
 "metadata": {
  "kernelspec": {
   "display_name": "Python 3",
   "language": "python",
   "name": "python3"
  },
  "language_info": {
   "codemirror_mode": {
    "name": "ipython",
    "version": 3
   },
   "file_extension": ".py",
   "mimetype": "text/x-python",
   "name": "python",
   "nbconvert_exporter": "python",
   "pygments_lexer": "ipython3",
   "version": "3.7.4"
  },
  "latex_envs": {
   "LaTeX_envs_menu_present": true,
   "autoclose": false,
   "autocomplete": true,
   "bibliofile": "biblio.bib",
   "cite_by": "apalike",
   "current_citInitial": 1,
   "eqLabelWithNumbers": true,
   "eqNumInitial": 1,
   "hotkeys": {
    "equation": "Ctrl-E",
    "itemize": "Ctrl-I"
   },
   "labels_anchors": false,
   "latex_user_defs": false,
   "report_style_numbering": false,
   "user_envs_cfg": false
  },
  "toc": {
   "base_numbering": 1,
   "nav_menu": {},
   "number_sections": true,
   "sideBar": true,
   "skip_h1_title": true,
   "title_cell": "Table of Contents",
   "title_sidebar": "Contents",
   "toc_cell": false,
   "toc_position": {
    "height": "calc(100% - 180px)",
    "left": "10px",
    "top": "150px",
    "width": "256px"
   },
   "toc_section_display": true,
   "toc_window_display": true
  }
 },
 "nbformat": 4,
 "nbformat_minor": 2
}
